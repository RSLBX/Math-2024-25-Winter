{
 "cells": [
  {
   "cell_type": "markdown",
   "metadata": {},
   "source": [
    "## 21. Derivatives\n",
    "\n",
    "1. Compute derivatives of functions:\n",
    "   * $y(x) = -3x+3$\n",
    "   * $y(x) = \\pi x + \\sin(1)$\n",
    "   * $y(x) = 4+\\sin(2)$\n",
    "   * $y(x) = 2x^3 - 3x^2 + 8x - 9$\n",
    "   * $y(x) = 6 x^{1/3}$\n",
    "   * $y(x) = \\sqrt{x}$\n",
    "   * $y(x) = \\cos(x) + \\sin(x)$\n",
    "   * $y(x) = 2\\sin(x) \\cos(x)$\n",
    "   * $y(x) = x\\sin(x)$\n",
    "   * $y(x) = (x+1)(x+1)$\n",
    "   * $y(x) = \\frac{x}{x+1}$\n",
    "   * $y(x) = (x+1)\\exp(x)$\n",
    "   * $y(x) = \\sin(x^2)$\n",
    "   * $y(x) = \\exp(-2x)$\n",
    "   * $y(x) = \\frac{1}{\\sin(x+1)}$\n",
    "   * $y(x) = \\sqrt{2x+1}$\n",
    "\n",
    "2. Prove:\n",
    "   - $\\frac{d}{dx} (\\ln(\\sin(x))) = \\cot(x)$\n",
    "\n",
    "3. For $f(x) = \\cos(x)$, verify that $f''(x) = -f(x)$.\n",
    "\n",
    "4. Using de l'Hospital's Rule, find the improper limits:\n",
    "   - $\\displaystyle \\lim_{x\\to 0} \\frac{\\sin{x}}{x}$\n",
    "   - $\\displaystyle \\lim_{x\\to \\infty} \\frac{\\ln x}{x}$\n",
    "   - $\\displaystyle \\lim_{x\\to \\infty} \\frac{\\exp(x)}{x}$\n",
    "\n",
    "5. In physics, the position of a particle is given by $x(t) = 3t^2 - 6t + 1$. Find the velocity $V(t)=x'(t)$ and acceleration $a(t)=V'(t)=x''(t)$ of the particle at time $t = 2$.\n",
    "\n",
    "## 22. Extremum\n",
    "\n",
    "6. The profit function is $P(u) = -2u^2 + 50u - 300$, where $u$ is the number of units sold. Find the number of units that maximize profit.\n",
    "\n",
    "7. You have 10 meters of string, and you need to use it to enclose the largest possible rectangular. Find the dimensions of the rectangle.\n",
    "\n",
    "8. Find extremum of $f(x) = x^2 + 3x - 5$.\n",
    "\n",
    "9. Find extremum of $f(x) =\\frac{x^2+2x+1}{x-1}$."
   ]
  }
 ],
 "metadata": {
  "kernelspec": {
   "display_name": "Python 3",
   "language": "python",
   "name": "python3"
  },
  "language_info": {
   "codemirror_mode": {
    "name": "ipython",
    "version": 3
   },
   "file_extension": ".py",
   "mimetype": "text/x-python",
   "name": "python",
   "nbconvert_exporter": "python",
   "version": "3.10.7"
  }
 },
 "nbformat": 4,
 "nbformat_minor": 5
}
