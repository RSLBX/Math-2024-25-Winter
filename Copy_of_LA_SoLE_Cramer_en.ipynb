{
  "cells": [
    {
      "cell_type": "markdown",
      "metadata": {
        "id": "view-in-github",
        "colab_type": "text"
      },
      "source": [
        "<a href=\"https://colab.research.google.com/github/RSLBX/Math-2024-25-Winter/blob/main/Copy_of_LA_SoLE_Cramer_en.ipynb\" target=\"_parent\"><img src=\"https://colab.research.google.com/assets/colab-badge.svg\" alt=\"Open In Colab\"/></a>"
      ]
    },
    {
      "cell_type": "markdown",
      "metadata": {
        "id": "qYNRGVaqQEaC"
      },
      "source": [
        "# Cramer's Rule - Examples for 2x2, 3x3, and 4x4 Systems\n",
        "\n",
        "Cramer's rule is used only when the number of equations is equal to the number of unknowns. In other words, the coefficient matrix must be a square matrix.\n",
        "\n",
        "**These formulas are used only** when the **determinant** of the coefficient matrix is **non-zero**. Otherwise, the system of equations is either inconsistent or indeterminate.\n",
        "\n",
        "## 2x2 System of Equations\n",
        "\n",
        "Consider a system of two equations with two unknowns:\n",
        "\n",
        "$$\n",
        "\\begin{cases}\n",
        "a_{11}x_1 + a_{12}x_2 = b_1 \\\\\n",
        "a_{21}x_1 + a_{22}x_2 = b_2\n",
        "\\end{cases}\n",
        "$$\n",
        "\n",
        "Cramer's rule for the unknowns $ x_1 $ and $ x_2 $ is as follows:\n",
        "\n",
        "$$\n",
        "x_1 = \\frac{\\det(A_1)}{\\det(A)} \\quad \\text{and} \\quad x_2 = \\frac{\\det(A_2)}{\\det(A)}\n",
        "$$\n",
        "\n",
        "Where:\n",
        "\n",
        "$$\n",
        "\\det(A) =\n",
        "\\begin{vmatrix}\n",
        "a_{11} & a_{12} \\\\\n",
        "a_{21} & a_{22}\n",
        "\\end{vmatrix}\n",
        "= a_{11}a_{22} - a_{12}a_{21}\n",
        "$$\n",
        "\n",
        "$$\n",
        "\\det(A_1) =\n",
        "\\begin{vmatrix}\n",
        "b_1 & a_{12} \\\\\n",
        "b_2 & a_{22}\n",
        "\\end{vmatrix}\n",
        "= b_1a_{22} - a_{12}b_2\n",
        "$$\n",
        "\n",
        "$$\n",
        "\\det(A_2) =\n",
        "\\begin{vmatrix}\n",
        "a_{11} & b_1 \\\\\n",
        "a_{21} & b_2\n",
        "\\end{vmatrix}\n",
        "= a_{11}b_2 - b_1a_{21}\n",
        "$$\n",
        "\n",
        "## 3x3 System of Equations\n",
        "\n",
        "Consider a system of three equations with three unknowns:\n",
        "\n",
        "$$\n",
        "\\begin{cases}\n",
        "a_{11}x_1 + a_{12}x_2 + a_{13}x_3 = b_1 \\\\\n",
        "a_{21}x_1 + a_{22}x_2 + a_{23}x_3 = b_2 \\\\\n",
        "a_{31}x_1 + a_{32}x_2 + a_{33}x_3 = b_3\n",
        "\\end{cases}\n",
        "$$\n",
        "\n",
        "Cramer's rule for $ x_1 $, $ x_2 $, and $ x_3 $:\n",
        "\n",
        "$$\n",
        "x_1 = \\frac{\\det(A_1)}{\\det(A)} \\quad x_2 = \\frac{\\det(A_2)}{\\det(A)} \\quad x_3 = \\frac{\\det(A_3)}{\\det(A)}\n",
        "$$\n",
        "\n",
        "Where:\n",
        "\n",
        "$$\n",
        "\\det(A) =\n",
        "\\begin{vmatrix}\n",
        "a_{11} & a_{12} & a_{13} \\\\\n",
        "a_{21} & a_{22} & a_{23} \\\\\n",
        "a_{31} & a_{32} & a_{33}\n",
        "\\end{vmatrix}\n",
        "$$\n",
        "\n",
        "$$\n",
        "\\det(A_1) =\n",
        "\\begin{vmatrix}\n",
        "b_1 & a_{12} & a_{13} \\\\\n",
        "b_2 & a_{22} & a_{23} \\\\\n",
        "b_3 & a_{32} & a_{33}\n",
        "\\end{vmatrix}\n",
        "$$\n",
        "\n",
        "$$\n",
        "\\det(A_2) =\n",
        "\\begin{vmatrix}\n",
        "a_{11} & b_1 & a_{13} \\\\\n",
        "a_{21} & b_2 & a_{23} \\\\\n",
        "a_{31} & b_3 & a_{33}\n",
        "\\end{vmatrix}\n",
        "$$\n",
        "\n",
        "$$\n",
        "\\det(A_3) =\n",
        "\\begin{vmatrix}\n",
        "a_{11} & a_{12} & b_1 \\\\\n",
        "a_{21} & a_{22} & b_2 \\\\\n",
        "a_{31} & a_{32} & b_3\n",
        "\\end{vmatrix}\n",
        "$$\n",
        "\n",
        "## 4x4 System of Equations\n",
        "\n",
        "Consider a system of four equations with four unknowns:\n",
        "\n",
        "$$\n",
        "\\begin{cases}\n",
        "a_{11}x_1 + a_{12}x_2 + a_{13}x_3 + a_{14}x_4 = b_1 \\\\\n",
        "a_{21}x_1 + a_{22}x_2 + a_{23}x_3 + a_{24}x_4 = b_2 \\\\\n",
        "a_{31}x_1 + a_{32}x_2 + a_{33}x_3 + a_{34}x_4 = b_3 \\\\\n",
        "a_{41}x_1 + a_{42}x_2 + a_{43}x_3 + a_{44}x_4 = b_4\n",
        "\\end{cases}\n",
        "$$\n",
        "\n",
        "Cramer's rule for $ x_1 $, $ x_2 $, $ x_3 $, and $ x_4 $:\n",
        "\n",
        "$$\n",
        "x_1 = \\frac{\\det(A_1)}{\\det(A)} \\quad x_2 = \\frac{\\det(A_2)}{\\det(A)} \\quad x_3 = \\frac{\\det(A_3)}{\\det(A)} \\quad x_4 = \\frac{\\det(A_4)}{\\det(A)}\n",
        "$$\n",
        "\n",
        "Where:\n",
        "\n",
        "$$\n",
        "\\det(A) =\n",
        "\\begin{vmatrix}\n",
        "a_{11} & a_{12} & a_{13} & a_{14} \\\\\n",
        "a_{21} & a_{22} & a_{23} & a_{24} \\\\\n",
        "a_{31} & a_{32} & a_{33} & a_{34} \\\\\n",
        "a_{41} & a_{42} & a_{43} & a_{44}\n",
        "\\end{vmatrix}\n",
        "$$\n",
        "\n",
        "$$\n",
        "\\det(A_1) =\n",
        "\\begin{vmatrix}\n",
        "b_1 & a_{12} & a_{13} & a_{14} \\\\\n",
        "b_2 & a_{22} & a_{23} & a_{24} \\\\\n",
        "b_3 & a_{32} & a_{33} & a_{34} \\\\\n",
        "b_4 & a_{42} & a_{43} & a_{44}\n",
        "\\end{vmatrix}\n",
        "$$\n",
        "\n",
        "$$\n",
        "\\det(A_2) =\n",
        "\\begin{vmatrix}\n",
        "a_{11} & b_1 & a_{13} & a_{14} \\\\\n",
        "a_{21} & b_2 & a_{23} & a_{24} \\\\\n",
        "a_{31} & b_3 & a_{33} & a_{34} \\\\\n",
        "a_{41} & b_4 & a_{43} & a_{44}\n",
        "\\end{vmatrix}\n",
        "$$\n",
        "\n",
        "$$\n",
        "\\det(A_3) =\n",
        "\\begin{vmatrix}\n",
        "a_{11} & a_{12} & b_1 & a_{14} \\\\\n",
        "a_{21} & a_{22} & b_2 & a_{24} \\\\\n",
        "a_{31} & a_{32} & b_3 & a_{34} \\\\\n",
        "a_{41} & a_{42} & b_4 & a_{44}\n",
        "\\end{vmatrix}\n",
        "$$\n",
        "\n",
        "$$\n",
        "\\det(A_4) =\n",
        "\\begin{vmatrix}\n",
        "a_{11} & a_{12} & a_{13} & b_1 \\\\\n",
        "a_{21} & a_{22} & a_{23} & b_2 \\\\\n",
        "a_{31} & a_{32} & a_{33} & b_3 \\\\\n",
        "a_{41} & a_{42} & a_{43} & b_4\n",
        "\\end{vmatrix}\n",
        "$$\n",
        "\n",
        "## Example"
      ]
    },
    {
      "cell_type": "code",
      "execution_count": null,
      "metadata": {
        "id": "rQPHM5eTQEaF"
      },
      "outputs": [],
      "source": [
        "import sympy as sp\n",
        "\n",
        "# Define symbols\n",
        "x, y, z = sp.symbols('x y z')\n",
        "\n",
        "# Define the system of equations\n",
        "eq1 = sp.Eq(2*x + 3*y + z, 1)\n",
        "eq2 = sp.Eq(3*x + 2*y + 2*z, 2)\n",
        "eq3 = sp.Eq(x + y + z, 3)\n",
        "\n",
        "# Coefficient matrix of the system\n",
        "A = sp.Matrix([[2, 3, 1], [3, 2, 2], [1, 1, 1]])\n",
        "# Free terms vector\n",
        "b = sp.Matrix([1, 2, 3])"
      ]
    },
    {
      "cell_type": "code",
      "execution_count": null,
      "metadata": {
        "id": "_UbuNGgRQEaG",
        "outputId": "902b25c0-751a-48de-94fd-045d6f7f8486"
      },
      "outputs": [
        {
          "data": {
            "text/latex": [
              "$\\displaystyle \\left[\\begin{matrix}2 & 3 & 1\\\\3 & 2 & 2\\\\1 & 1 & 1\\end{matrix}\\right]$"
            ],
            "text/plain": [
              "Matrix([\n",
              "[2, 3, 1],\n",
              "[3, 2, 2],\n",
              "[1, 1, 1]])"
            ]
          },
          "execution_count": 2,
          "metadata": {},
          "output_type": "execute_result"
        }
      ],
      "source": [
        "A"
      ]
    },
    {
      "cell_type": "code",
      "execution_count": null,
      "metadata": {
        "id": "TVEpfCxgQEaH",
        "outputId": "acb7458c-31bb-4ef8-91a8-8e2b82e3beed"
      },
      "outputs": [
        {
          "data": {
            "text/latex": [
              "$\\displaystyle \\left[\\begin{matrix}1\\\\2\\\\3\\end{matrix}\\right]$"
            ],
            "text/plain": [
              "Matrix([\n",
              "[1],\n",
              "[2],\n",
              "[3]])"
            ]
          },
          "execution_count": 3,
          "metadata": {},
          "output_type": "execute_result"
        }
      ],
      "source": [
        "b"
      ]
    },
    {
      "cell_type": "code",
      "execution_count": null,
      "metadata": {
        "id": "pzOZlPJ5QEaI",
        "outputId": "68c7b052-56e5-48e8-91f2-0420439b3331"
      },
      "outputs": [
        {
          "data": {
            "text/latex": [
              "$\\displaystyle \\left[\\begin{matrix}1 & 3 & 1\\\\2 & 2 & 2\\\\3 & 1 & 1\\end{matrix}\\right]$"
            ],
            "text/plain": [
              "Matrix([\n",
              "[1, 3, 1],\n",
              "[2, 2, 2],\n",
              "[3, 1, 1]])"
            ]
          },
          "execution_count": 4,
          "metadata": {},
          "output_type": "execute_result"
        }
      ],
      "source": [
        "# Define matrix A_1\n",
        "A_1 = A.copy() # Copy matrix A\n",
        "A_1[:, 0] = b # Replace the first column of A with vector b\n",
        "A_1 # Check if the replacement was successful"
      ]
    },
    {
      "cell_type": "code",
      "execution_count": null,
      "metadata": {
        "id": "iauP-42LQEaJ",
        "outputId": "4a5c0a1a-f3bc-4e70-bea5-0e5cda461da8"
      },
      "outputs": [
        {
          "data": {
            "text/latex": [
              "$\\displaystyle -4$"
            ],
            "text/plain": [
              "-4"
            ]
          },
          "execution_count": 5,
          "metadata": {},
          "output_type": "execute_result"
        }
      ],
      "source": [
        "det_A_1 = A_1.det() # Calculate determinant of A_1\n",
        "sol_x = det_A_1 / A.det() # Calculate x_1\n",
        "sol_x # Calculated value of x_1"
      ]
    },
    {
      "cell_type": "code",
      "execution_count": null,
      "metadata": {
        "id": "xvOID0MsQEaK",
        "outputId": "5503cc4f-fec2-407f-c4c5-6966c8d3cf29"
      },
      "outputs": [
        {
          "data": {
            "text/latex": [
              "$\\displaystyle \\left[\\begin{matrix}2 & 1 & 1\\\\3 & 2 & 2\\\\1 & 3 & 1\\end{matrix}\\right]$"
            ],
            "text/plain": [
              "Matrix([\n",
              "[2, 1, 1],\n",
              "[3, 2, 2],\n",
              "[1, 3, 1]])"
            ]
          },
          "execution_count": 6,
          "metadata": {},
          "output_type": "execute_result"
        }
      ],
      "source": [
        "# Similarly for y\n",
        "A_2 = A.copy()\n",
        "A_2[:, 1] = b\n",
        "A_2 # Check if the replacement was successful"
      ]
    },
    {
      "cell_type": "code",
      "execution_count": null,
      "metadata": {
        "id": "LHjEfY4QQEaK",
        "outputId": "88973b0a-d7b7-4b29-fbfa-df63631a7548"
      },
      "outputs": [
        {
          "data": {
            "text/latex": [
              "$\\displaystyle 1$"
            ],
            "text/plain": [
              "1"
            ]
          },
          "execution_count": 7,
          "metadata": {},
          "output_type": "execute_result"
        }
      ],
      "source": [
        "det_A_2 = A_2.det()\n",
        "sol_y = det_A_2 / A.det()\n",
        "sol_y"
      ]
    },
    {
      "cell_type": "code",
      "execution_count": null,
      "metadata": {
        "id": "xwDdsQ5SQEaL",
        "outputId": "f3501813-9c82-41fe-cac5-f11d6342e13f"
      },
      "outputs": [
        {
          "data": {
            "text/latex": [
              "$\\displaystyle 6$"
            ],
            "text/plain": [
              "6"
            ]
          },
          "execution_count": 8,
          "metadata": {},
          "output_type": "execute_result"
        }
      ],
      "source": [
        "# Finally for z\n",
        "A_3 = A.copy()\n",
        "A_3[:, 2] = b\n",
        "det_A_3 = A_3.det()\n",
        "sol_z = det_A_3 / A.det()\n",
        "sol_z"
      ]
    },
    {
      "cell_type": "code",
      "execution_count": null,
      "metadata": {
        "id": "P4aFJY_rQEaL",
        "outputId": "146f26db-1475-4726-f847-6cf4df2d9835"
      },
      "outputs": [
        {
          "data": {
            "text/plain": [
              "{x: -4, y: 1, z: 6}"
            ]
          },
          "execution_count": 9,
          "metadata": {},
          "output_type": "execute_result"
        }
      ],
      "source": [
        "# Solve the system of equations\n",
        "sp.solve((eq1, eq2, eq3), (x, y, z))"
      ]
    },
    {
      "cell_type": "markdown",
      "metadata": {
        "id": "Hx5KZEv7QEaM"
      },
      "source": [
        "---\n",
        "\n",
        "## Exercises for Students\n",
        "\n",
        "1. Solve the system of equations:\n",
        "   $$\n",
        "   \\begin{cases}\n",
        "   2x_1 - 3x_2 = 7 \\\\\n",
        "   3x_1 + 5x_2 = 2\n",
        "   \\end{cases}\n",
        "   $$\n",
        "\n",
        "2. Solve the system of equations:\n",
        "   $$\n",
        "   \\begin{cases}\n",
        "   2x + y - z = 1 \\\\\n",
        "   x - y + 2z = 4 \\\\\n",
        "   3x - 2z = -1\n",
        "   \\end{cases}\n",
        "   $$\n",
        "\n",
        "3. Solve the system of equations:\n",
        "   $$\n",
        "   \\begin{cases}\n",
        "   x + y + z - t = 2 \\\\\n",
        "   x - z + 2t = 6 \\\\\n",
        "   2x - 3y + t = 4 \\\\\n",
        "   3x + y + 3z - 4t = -2\n",
        "   \\end{cases}\n",
        "   $$\n",
        "\n",
        "4. Why can't the following system of equations be solved using Cramer's rule?\n",
        "$$\n",
        "\\begin{cases}\n",
        "x_1 + 2x_2 + 3x_3 = 3 \\\\\n",
        "4x_1 + 5x_2 + 6x_3 = 2 \\\\\n",
        "7x_1 + 8x_2 + 9x_3 = 1\n",
        "\\end{cases}\n",
        "$$"
      ]
    },
    {
      "cell_type": "markdown",
      "source": [
        " $$\n",
        "   \\begin{cases}\n",
        "   2x_1 - 3x_2 = 7 \\\\\n",
        "   3x_1 + 5x_2 = 2\n",
        "   \\end{cases}\n",
        "   $$\n",
        "   \\\n",
        "   $$\n",
        "   \\begin{align*}\n",
        "  X_1 = \\frac{D_X1}{D} \\\\\n",
        "  X_2 = \\frac{D_X2}{D}\n",
        "  \\end{align*}\n",
        "   $$\n",
        "\\\n",
        "$$\n",
        "D = \\begin{bmatrix} 2 & -3 \\\\ 3 & 5 \\end{bmatrix}\n",
        "=\n",
        "10 - (-9) = 19\n",
        "$$\n",
        "\\\n",
        "$$\n",
        "D_X1 = \\begin{bmatrix} 7 & -3 \\\\ 2 & 5 \\end{bmatrix}\n",
        "=\n",
        "35 + 6 = 41\n",
        "$$\n",
        "\\\n",
        "$$\n",
        "D_X2 = \\begin{bmatrix} 2 & 7 \\\\ 3 & 2 \\end{bmatrix}\n",
        "=\n",
        "4 - 21 = -17\n",
        "$$\n",
        "\\\n",
        "$$\n",
        "(2 * \\frac{41}{19}) - (3 * - \\frac{17}{19}) =\n",
        "\\frac{82}{19} + \\frac{54}{19} = 7\n",
        "$$\n",
        "\\\n",
        "$$\n",
        "(x_1 = \\frac{41}{19}; x_2 = -\\frac{17}{19})\n",
        "$$"
      ],
      "metadata": {
        "id": "6cgd3OREbkd1"
      }
    },
    {
      "cell_type": "markdown",
      "source": [
        "$$\n",
        "\\begin{cases}\n",
        "2x + y - z = 1 \\\\\n",
        "x - y + 2z = 4 \\\\\n",
        "3x - 2z = -1\n",
        "\\end{cases}\n",
        "$$\n",
        "\\\n",
        "$$\n",
        "\\begin{align*}\n",
        "x = \\frac{D_X}{D} \\\\\n",
        "y = \\frac{D_Y}{D} \\\\\n",
        "z = \\frac{D_Z}{D}\n",
        "\\end{align*}\n",
        "$$\n",
        "\\\n",
        "$$\n",
        "D = \\begin{bmatrix}\n",
        "2 & 1 & -1 \\\\\n",
        "1 & -1 & 2 \\\\\n",
        "3 & 0 & -2\n",
        "\\end{bmatrix}\n",
        "=\n",
        "2 * \\begin{bmatrix} -1 & 2 \\\\ 0 & -2 \\end{bmatrix}\n",
        "-1 * \\begin{bmatrix} 1 & 2 \\\\ 3 & -2 \\end{bmatrix}\n",
        "+ (-1 * \\begin{bmatrix} 1 & -1 \\\\ 3 & 0  \\end{bmatrix})\n",
        "=\n",
        "4 + 8 - 3 = 9\n",
        "$$\n",
        "\\\n",
        "$$\n",
        "D_X = \\begin{bmatrix} 1 & 1 & -1 \\\\ 4 & -1 & 2 \\\\ -1 & 0 & -2 \\end{bmatrix}\n",
        "=\n",
        "-1 * \\begin{bmatrix} 1 & -1 \\\\ -1 & 2 \\end{bmatrix}\n",
        "+ (-2 * \\begin{bmatrix} 1 & 1 \\\\4 & -1 \\end{bmatrix})\n",
        "=\n",
        "-1 + 10 = 9\n",
        "$$\n",
        "\\\n",
        "$$\n",
        "D_Y =\n",
        "\\begin{bmatrix}\n",
        "2 & 1 & -1 \\\\\n",
        "1 & 4 & 2 \\\\\n",
        "3 & -1 & -2\n",
        "\\end{bmatrix}\n",
        "=\n",
        "2 * \\begin{bmatrix} 4 & 2 \\\\ -1 & -2 \\end{bmatrix}\n",
        "-1 * \\begin{bmatrix} 1 & 2 \\\\ 3 & -2 \\end{bmatrix}\n",
        "+ (-1 * \\begin{bmatrix} 1 & 4 \\\\ 3 & -1 \\end{bmatrix})\n",
        "=\n",
        "-12 + 8 + 13 = 9\n",
        "$$\n",
        "\\\n",
        "$$\n",
        "2(1) + 1 - 2 = 1\n",
        "$$\n",
        "\\\n",
        "$$\n",
        "(x = 1; y = 1; z = 2)\n",
        "$$"
      ],
      "metadata": {
        "id": "LIejBK24dgsd"
      }
    },
    {
      "cell_type": "markdown",
      "source": [
        "$$\n",
        "\\begin{cases}\n",
        "   x + y + z - t = 2 \\\\\n",
        "   x - z + 2t = 6 \\\\\n",
        "   2x - 3y + t = 4 \\\\\n",
        "   3x + y + 3z - 4t = -2\n",
        "   \\end{cases}\n",
        "$$\n",
        "\\\n",
        "$$\n",
        "\\begin{align*}\n",
        "x = \\frac{D_X}{D} \\\\\n",
        "y = \\frac{D_Y}{D} \\\\\n",
        "z = \\frac{D_Z}{D} \\\\\n",
        "t = \\frac{D_T}{D}\n",
        "\\end{align*}\n",
        "$$\n"
      ],
      "metadata": {
        "id": "eTqN1CVylmA1"
      }
    },
    {
      "cell_type": "markdown",
      "source": [
        "$$\n",
        "   \\begin{cases}\n",
        "   x + y + z - t = 2 \\\\\n",
        "   x - z + 2t = 6 \\\\\n",
        "   2x - 3y + t = 4 \\\\\n",
        "   3x + y + 3z - 4t = -2\n",
        "   \\end{cases}\n",
        "$$\n",
        "\\\n",
        "$$\n",
        "\\begin{align*}\n",
        "x = \\frac{D_X}{D} \\\\\n",
        "y = \\frac{D_Y}{D} \\\\\n",
        "z = \\frac{D_Z}{D} \\\\\n",
        "t = \\frac{D_T}{D} \\\\\n",
        "\\end{align*}\n",
        "$$\n",
        "\\\n",
        "$$\n",
        "D =\n",
        "\\begin{bmatrix}\n",
        "1 & 1 & 1 & -1 \\\\\n",
        "1 & 0 & -1 & 2 \\\\\n",
        "2 & -3 & 0 & 1 \\\\\n",
        "3 & 1 & 3 & -4\n",
        "\\end{bmatrix}\n",
        "=\n",
        "1 * \\begin{bmatrix} 1 & 1 & -1 \\\\ -3 & 0 & 1 \\\\ 1 & 3 & -4 \\end{bmatrix}\n",
        "-1 * \\begin{bmatrix} 1 & 1 & -1 \\\\ 2 & -3 & 1 \\\\ 3 & 1 & -4 \\end{bmatrix}\n",
        "-2 * \\begin{bmatrix} 1 & 0 & -1 \\\\ 2 & -3 & 0 \\\\ 3 & 1 & 3 \\end{bmatrix}\n",
        "$$\n",
        "\\\n",
        "\\\n",
        "\\\n",
        "$$\n",
        "\\begin{bmatrix} 1 & 1 & -1 \\\\ -3 & 0 & 1 \\\\ 1 & 3 & -4 \\end{bmatrix} =\n",
        "- (-3 * \\begin{bmatrix} 1 & -1 \\\\ 3 & -4 \\end{bmatrix}) - 1* \\begin{bmatrix} 1 & 1 \\\\ 1 & 3 \\end{bmatrix}\n",
        "= -27 - 2 = -29\n",
        "$$\n",
        "\\\n",
        "$$\n",
        "\\begin{bmatrix} 1 & 1 & -1 \\\\ 2 & -3 & 1 \\\\ 3 & 1 & -4 \\end{bmatrix} =\n",
        "1 * \\begin{bmatrix} -3 & 1 \\\\ 1 & -4 \\end{bmatrix} -\n",
        "1 * \\begin{bmatrix} 2 & 1 \\\\ 3 & -4 \\end{bmatrix} -\n",
        "1 * \\begin{bmatrix} 2 & -3 \\\\ 3 & 1 \\end{bmatrix}\n",
        "= 11 + 11 -11 = 11\n",
        "$$\n",
        "\\\n",
        "$$\n",
        "\\begin{bmatrix} 1 & 0 & -1 \\\\ 2 & -3 & 0 \\\\ 3 & 1 & 3 \\end{bmatrix} =\n",
        "1 * \\begin{bmatrix} -3 & 0 \\\\ 1 & 3 \\end{bmatrix} - 1*\n",
        "\\begin{bmatrix} 2 & -3 \\\\ 3 & 1 \\end{bmatrix}\n",
        "= -9 - 11 = 20\n",
        "$$\n",
        "\\\n",
        "$$\n",
        "(-29 * 1) - (11 * 1) + (-20 * -2) = 0\n",
        "$$\n",
        "This equation cannot be solved using Cramar's rule as the value of D(etriment) equals to zero"
      ],
      "metadata": {
        "id": "kPue7qP0Yb24"
      }
    },
    {
      "cell_type": "markdown",
      "source": [
        "$$\n",
        "\\begin{cases}\n",
        "x_1 + 2x_2 + 3x_3 = 3 \\\\\n",
        "4x_1 + 5x_2 + 6x_3 = 2 \\\\\n",
        "7x_1 + 8x_2 + 9x_3 = 1\n",
        "\\end{cases}\n",
        "$$\n",
        "\\\n",
        "$$\n",
        "D =\n",
        "\\begin{bmatrix}\n",
        "1&2&3 \\\\\n",
        "4&5&6\\\\\n",
        "7&8&9\\\\\n",
        "\\end{bmatrix}\n",
        "=\n",
        "1* \\begin{bmatrix}\n",
        "5 & 6 \\\\ 8 & 9\n",
        "\\end{bmatrix} -\n",
        "2 * \\begin{bmatrix} 4 & 6 \\\\ 7 & 9 \\end{bmatrix} +\n",
        "3 * \\begin{bmatrix} 4 & 5 \\\\ 7 & 8 \\end{bmatrix}\n",
        "=\n",
        "(45 - 48) - (36 - 42) + (32 - 35) = -3 + 12 - 19 = 0\n",
        "$$\n",
        "Because the detriment equals to zero"
      ],
      "metadata": {
        "id": "fDuwCF5XcgLY"
      }
    }
  ],
  "metadata": {
    "kernelspec": {
      "display_name": "Python 3",
      "language": "python",
      "name": "python3"
    },
    "language_info": {
      "codemirror_mode": {
        "name": "ipython",
        "version": 3
      },
      "file_extension": ".py",
      "mimetype": "text/x-python",
      "name": "python",
      "nbconvert_exporter": "python",
      "pygments_lexer": "ipython3",
      "version": "3.11.9"
    },
    "colab": {
      "provenance": [],
      "include_colab_link": true
    }
  },
  "nbformat": 4,
  "nbformat_minor": 0
}