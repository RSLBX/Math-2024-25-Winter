{
 "cells": [
  {
   "cell_type": "markdown",
   "metadata": {},
   "source": [
    "# 18. Functions\n\n## 1. Plot the following functions:\n- $f(x) = x^2$\n- $g(x) = \sqrt{x}$\n- $h(x) = \frac{1}{x}$\n- $j(x) = \sin(x)$\n\nFind the value of all the above functions at $x = 2$.\n\n## 2. Given $f(x) = 3x - 1$ and $g(x) = \sqrt{x}$, find:\n- $f(g(x))$\n- $g(f(x))$\n- $f(f(x))$\n- $g(g(x))$\n\nVisualize the functions in a single Geogebra notebook.\n\n## 3. Let $f(x) = e^x$ and $g(x) = \ln(x)$. Check:\n- $f(g(x))$\n- $g(f(x))$\n\nWhat do you notice?\n\n## 4. Given the function $f=\{(1,7), (2,9), (3,11)\}$, find the inverse function $f^{-1}$.\n\n## 5. Given the function $f=\{(1,7), (2,7), (3,11)\}$, find the inverse function $f^{-1}$.\n\n## 6. Given $f(x) = x - 1$, find the inverse function $f^{-1}$.\n\nVisualize both functions on the same Geogebra notebook."
   ]
  },
  {
   "cell_type": "markdown",
   "metadata": {},
   "source": [
    "# 19. Limits of Sequences\n\n## 1. Calculate:\n- $\\displaystyle \\lim_{n \\to \\infty} \\frac{n^2 + 3n}{2 n^2 - 2n}$\n- $\\displaystyle \\lim_{n \\to \\infty} \\frac{(2n+3)^3}{n^3-1}$\n\n## 2. Prove using the squeeze theorem:\n- $\\displaystyle\\lim_{n \\to \\infty} \\frac{\\sin(n)}{n}$\n\n## 3. Find the limit of the sequence:\n- $a_n = (1+\\frac{1}{n})^n$"
   ]
  },
  {
   "cell_type": "markdown",
   "metadata": {},
   "source": [
    "# 20. Limits of Real Functions\n\n## 1. Compute:\n- $\\displaystyle\\lim_{x \\to \\infty} \\frac{x^3 + 2x^2}{x^4 - 3x^3}$\n\n## 2. Find:\n- $\\displaystyle \\lim_{x \\to 0} \\frac{\\sin(3x)}{2x+1}$.\n\n## 3. Find the asymptotes of the following functions:\n- $f(x) = \\frac{x^2 - 1}{x^2 + 1}$\n- $g(x) = \\frac{\\sin(x)}{x^2+1}$"
   ]
  }
 ],
 "metadata": {
  "kernelspec": {
   "display_name": "Python 3",
   "language": "python",
   "name": "python3"
  },
  "language_info": {
   "codemirror_mode": {
    "name": "ipython",
    "version": 3
   },
   "file_extension": ".py",
   "mimetype": "text/x-python",
   "name": "python",
   "nbconvert_exporter": "python",
   "pygments_lexer": "ipython3",
   "version": "3.9.12"
  }
 },
 "nbformat": 4,
 "nbformat_minor": 5
}
