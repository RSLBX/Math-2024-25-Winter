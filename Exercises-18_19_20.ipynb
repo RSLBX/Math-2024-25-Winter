{
 "cells": [
  {
   "cell_type": "markdown",
   "metadata": {},
   "source": [
    "# Functions and Limits Exercises"
   ]
  },
  {
   "cell_type": "markdown",
   "metadata": {},
   "source": [
    "## 18. Functions\n\n1. Draw in a single Geogebra notebook the following functions:\n   - $f(x) = x^2$\n   - $g(x) = \sqrt{x}$\n   - $h(x) = \frac{1}{x}$\n   - $j(x) = \sin(x)$\n\nFind the value of all the above functions at $x = 2$.\n\n2. Let $f(x) = 3x - 1$ and $g(x) = \sqrt{x}$. Find:\n   - $f(g(x))$\n   - $g(f(x))$\n   - $f(f(x))$\n   - $g(g(x))$\n\n   Visualize these functions in a single Geogebra notebook.\n\n3. Let $f(x) = e^x$ and $g(x) = \ln(x)$. Check: $f(g(x))$ and $g(f(x))$. What do you notice?\n\n4. We have the function $f=\{(1,7), (2,9), (3,11)\}$. Give the inverse function $f^{-1}$.\n\n5. We have the function $f=\{(1,7), (2,7), (3,11)\}$. Give the inverse function $f^{-1}$.\n\n6. We have the function $f(x)= x-1$. Give the inverse function $f^{-1}$. Show both functions on the same Geogebra notebook."
   ]
  },
  {
   "cell_type": "markdown",
   "metadata": {},
   "source": [
    "## 19. Limits of Sequences\n\n1. Calculate:\n   - $\\displaystyle \\lim_{n \\to \\infty} \\frac{n^2 + 3n}{2 n^2 - 2n}$\n\n   - $\\displaystyle \\lim_{n \\to \\infty} \\frac{(2n+3)^3}{n^3-1}$\n\n2. Prove using the squeeze theorem:\n   - $\\displaystyle\\lim_{n \\to \\infty} \\frac{\\sin(n)}{n}$\n\n4. Find the limit of the sequence:\n   - $a_n = (1+\\frac{1}{n})^n$"
   ]
  },
  {
   "cell_type": "markdown",
   "metadata": {},
   "source": [
    "## 20. Limits of Real Functions\n\n1. Compute:\n   - $\\displaystyle\\lim_{x \\to \\infty} \\frac{x^3 + 2x^2}{x^4 - 3x^3}$\n\n2. Find:\n   \n   - $\\displaystyle \\lim_{x \\to 0} \\frac{\\sin(3x)}{2x+1}$.\n\n4. Find the asymptotes of the function:\n  \n   - $f(x) = \\frac{x^2 - 1}{x^2 + 1}$\n   - $g(x) = \\frac{\\sin(x)}{x^2+1}$"
   ]
  }
 ],
 "metadata": {
  "kernelspec": {
   "display_name": "Python 3",
   "language": "python",
   "name": "python3"
  },
  "language_info": {
   "codemirror_mode": {
    "name": "ipython",
    "version": 3
   },
   "file_extension": ".py",
   "mimetype": "text/x-python",
   "name": "python",
   "nbconvert_exporter": "python",
   "pygments_lexer": "ipython3",
   "version": "3.8.5"
  }
 },
 "nbformat": 4,
 "nbformat_minor": 5
}
