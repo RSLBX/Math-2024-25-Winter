{
  "nbformat": 4,
  "nbformat_minor": 0,
  "metadata": {
    "colab": {
      "name": "Mathematics_Problems.ipynb",
      "provenance": []
    },
    "kernelspec": {
      "name": "python3",
      "display_name": "Python 3"
    },
    "language_info": {
      "name": "python",
      "version": "3.8"
    }
  },
  "cells": [
    {
      "cell_type": "markdown",
      "metadata": {
        "id": "468skX8kmR6d"
      },
      "source": [
        "# Mathematics Problems\n",
        "\n",
        "## 18. Functions\n",
        "\n",
        "1. Draw in a single Geogebra notebook the following functions:\n",
        "   - $f(x) = x^2$\n",
        "   \n",
        "   - $g(x) = \\sqrt{x}$\n",
        "   - $h(x) = \\frac{1}{x}$\n",
        "   - $j(x) = \\sin(x)$\n",
        "\n",
        "Find value of all the above functions at $x = 2$.\n",
        "\n",
        "2. Let $f(x) = 3x - 1$ and $g(x) = \\sqrt{x}$. Find:\n",
        "   - $f(g(x))$\n",
        "   - $g(f(x))$\n",
        "   - $f(f(x))$\n",
        "   - $g(g(x))$\n",
        "\n",
        "and visualize functions in a single Geogebra notebook.\n",
        "\n",
        "3. Let $f(x) = e^x$ and $g(x) = \\ln(x)$. Check: $f(g(x))$ and $g(f(x))$. What do you notice?\n",
        "\n",
        "4. We have function $f=\\{(1,7), (2,9), (3,11)\\}$. Give inverse function $f^{-1}$.\n",
        "\n",
        "5. We have function $f=\\{(1,7), (2,7), (3,11)\\}$. Give inverse function $f^{-1}$.\n",
        "\n",
        "6. We have function $f(x)= x-1$. Give inverse function $f^{-1}$. Show both functions on the same Geogebra notebook.\n"
      ]
    },
    {
      "cell_type": "markdown",
      "metadata": {
        "id": "ykJ1kikJmR6f"
      },
      "source": [
        "## 19. Limits of Sequences\n",
        "\n",
        "1. Calculate:\n",
        "   - $\\displaystyle \\lim_{n \\to \\infty} \\frac{n^2 + 3n}{2 n^2 - 2n}$\n",
        "\n",
        "   - $\\displaystyle \\lim_{n \\to \\infty} \\frac{(2n+3)^3}{n^3-1}$\n",
        "\n",
        "2. Prove using the squeeze theorem:\n",
        "   - $\\displaystyle\\lim_{n \\to \\infty} \\frac{\\sin(n)}{n}$\n",
        "\n",
        "4. Find the limit of the sequence:\n",
        "   - $a_n = \\left(1+\\frac{1}{n}\\right)^n$\n"
      ]
    },
    {
      "cell_type": "markdown",
      "metadata": {
        "id": "rj2WkbfzmR6g"
      },
      "source": [
        "## 20. Limits of Real Functions\n",
        "\n",
        "1. Compute:\n",
        "   - $\\displaystyle\\lim_{x \\to \\infty} \\frac{x^3 + 2x^2}{x^4 - 3x^3}$\n",
        "\n",
        "2. Find:\n",
        "   \n",
        "   - $\\displaystyle \\lim_{x \\to 0} \\frac{\\sin(3x)}{2x+1}$.\n",
        "\n",
        "4. Find the asymptotes of the function:\n",
        "  \n",
        "   - $f(x) = \\frac{x^2 - 1}{x^2 + 1}$\n",
        "   - $g(x) = \\frac{\\sin(x)}{x^2+1}$"
      ]
    },
    {
      "cell_type": "markdown",
      "source": [
        "## 18. Functions\n",
        "1. Draw in a single Geogebra notebook the following functions:\n",
        "   - $f(x) = x^2$\n",
        "   \n",
        "   - $g(x) = \\sqrt{x}$\n",
        "   - $h(x) = \\frac{1}{x}$\n",
        "   - $j(x) = \\sin(x)$\n",
        "\n",
        "Find value of all the above functions at $x = 2$.\n",
        "\\\n",
        "$$\n",
        "\\begin{align*}\n",
        "* f(2) = 4 \\\\\n",
        "* g(2) = \\sqrt{2} \\\\\n",
        "* h(x) = \\frac{1}{2} \\\\\n",
        "* j(x) = sin(2)\n",
        "\\end{align*}\n",
        "$$\n",
        "GeoGebra: https://www.geogebra.org/calculator/yur8h8tc\n",
        "2. Let $f(x) = 3x - 1$ and $g(x) = \\sqrt{x}$. Find:\n",
        "   - $f(g(x))$\n",
        "   - $g(f(x))$\n",
        "   - $f(f(x))$\n",
        "   - $g(g(x))$\n",
        "\n",
        "and visualize functions in a single Geogebra notebook.\n",
        "\\\n",
        "$$\n",
        "\\\n",
        "\\begin{align*}\n",
        "* f(\\sqrt{x}) = 3\\sqrt{x} - 1\\\\\n",
        "* g(3x -1) = \\sqrt{3x - 1} \\\\\n",
        "* f(3x - 1) = 3(3x - 1) - 1 = 9x -3 - 1 = 9x - 4 \\\\\n",
        "* g(\\sqrt{x}) = \\sqrt{\\sqrt{x}} = \\sqrt{x^\\frac{1}{2}} = x^\\frac{1}{2} * x^\\frac{1}{2} = x^\\frac{1}{4}\n",
        "\\end{align*}\n",
        "$$\n",
        "When a square root is inside another, we multiply the exponents. The exponent of the first square root is the denominator, and the numerator is 1\n",
        "\\\n",
        "GeoGebra: https://www.geogebra.org/calculator/aqmrcwc9\n",
        "\n",
        "3. Let $f(x) = e^x$ and $g(x) = \\ln(x)$. Check: $f(g(x))$ and $g(f(x))$. What do you notice?\n",
        "$f(g(x))$ and $g(f(x))$ provides half straight lines. Them combined, would give one straight line\n",
        "\\\n",
        "GeoGebra: https://www.geogebra.org/calculator/ggg8qqb5\n",
        "\n",
        "4. We have function $f=\\{(1,7), (2,9), (3,11)\\}$. Give inverse function $f^{-1}$.\n",
        "\\\n",
        "We reverse the roles of x and y (x becomes y and y becomes x) \\\n",
        "$$f^-1 = {(7, 1), (9, 2), (11, 3)}$$\n",
        "\n",
        "\n",
        "5. We have function $f=\\{(1,7), (2,7), (3,11)\\}$. Give inverse function $f^{-1}$.\n",
        "\\\n",
        "We reverse the roles of x and y (x becomes y and y becomes x) \\\n",
        "$$f^-1 = {(7, 1), (7, 2), (11, 3)} $$\n",
        "\n",
        "6. We have function $f(x)= x-1$. Give inverse function $f^{-1}$. Show both functions on the same Geogebra notebook.\n"
      ],
      "metadata": {
        "id": "dNZxm-uamcCN"
      }
    }
  ]
}