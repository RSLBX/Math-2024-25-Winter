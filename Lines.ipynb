{
  "cells": [
    {
      "cell_type": "markdown",
      "metadata": {
        "id": "oJU9ROBmqxtX"
      },
      "source": [
        "# Tasks Related to Equations of Lines on a Plane\n",
        "\n",
        "This notebook solves and visualizes the following tasks related to lines on a plane."
      ]
    },
    {
      "cell_type": "markdown",
      "metadata": {
        "id": "LKVSMNnIqxtb"
      },
      "source": [
        "## Tasks\n",
        "1. The line passes through points $A(1, 2)$ and $B(3, 4)$. Find the equation of the line.\n",
        "2. The line passes through point $A(1, 2)$ and is parallel to the line $y = 2x + 3$. Find the equation of the line.\n",
        "3. The line passes through point $A(1, 2)$ and is perpendicular to the line $y = 2x + 3$. Find the equation of the line.\n",
        "4. We have two lines $y = 2x + 3$ and $y = 3x + 2$. Find the intersection point of these lines and calculate the angle between them.\n",
        "5. Write the equation of the line passing through point $A(1, 2)$ and parallel to the vector $\\vec{v} = [2, 3]$.\n",
        "6. We have the line $y = 2x + 3$. Find an example of a line perpendicular and parallel to it.\n",
        "7. We have the line $y = 2x + 3$ and point $A(1, 2)$. Find the distance from point $A$ to the line.\n",
        "8. The line intersects the coordinate axes at points $A(2, 0)$ and $B(0, 3)$. Find the equation of the line.\n",
        "9. Calculate the angle between the line $y = x + 3$ and the $Ox$ axis.\n",
        "10. Provide a vector perpendicular to the line $x + y + 1 = 0$."
      ]
    },
    {
      "cell_type": "markdown",
      "source": [
        "1. The line passes through points  A(1,2)  and  B(3,4) . Find the equation of the line.\n",
        "\n",
        "$$\n",
        "\\begin{align*}\n",
        "A(1, 2) = (x_1=1; y_1=2) \\\\\n",
        "B(3, 4) = (x_2=3; y_2=4)\n",
        "\\end{align*}\n",
        "$$\n",
        "\\\n",
        "$$\n",
        "\\frac{y_2 - y_1}{x_2 - x_1} = \\frac{4-2}{3-1} = \\frac{2}{2} = 1\n",
        "$$\n",
        "\\\n",
        "$$\n",
        "\\begin{align*}\n",
        "y = mx + c \\\\\n",
        "y = (1)x + c\n",
        "\\end{align*}\n",
        "$$\n",
        "To find the value of C, we'd need to substitue values\n",
        "$$\n",
        "\\begin{align*}\n",
        "B(3, 4) = (x_2=3; y_2=4) \\\\\n",
        "4 = 3 + c \\\\\n",
        "c = 1\n",
        "\\end{align*}\n",
        "$$\n",
        "The equation of the line is: $$ y = x + 1 $$\n",
        "GeoGebra graph link: https://www.geogebra.org/calculator/kdrquqpk"
      ],
      "metadata": {
        "id": "NhU-tX8frG4Z"
      }
    },
    {
      "cell_type": "markdown",
      "source": [
        "2. The line passes through point  A(1,2)  and is parallel to the line  y=2x+3 . Find the equation of the line.\n",
        "\n",
        "$$\n",
        "A(1, 2) = (x_1= 1; y_1 = 2)\n",
        "$$\n",
        "\\\n",
        "If a line is parallel, then it means that they have the same slope\n",
        "$$\n",
        "\\begin{align*}\n",
        "y = 2x + c \\\\\n",
        "2 = 2(1) + c \\\\\n",
        "c = 2- 2 = 0 \\\\\n",
        "\\end{align*}\n",
        "$$\n",
        "The equation of the line is: $$ y = 2x $$\n",
        "GeoGebra graph link (the line passes through the origin): https://www.geogebra.org/calculator/sjhpc6x2"
      ],
      "metadata": {
        "id": "2BHUvNfJ_a35"
      }
    },
    {
      "cell_type": "markdown",
      "source": [
        "3. The line passes through point  A(1,2)  and is perpendicular to the line  y=2x+3 . Find the equation of the line.\n",
        "\n",
        "$$\n",
        "A(1, 2) = (x_1=1; y_1=2)\n",
        "$$\n",
        "\\\n",
        "Formula: $$ m_1(2) * m_2 = -1 $$\n",
        "$$\n",
        "\\begin{align*}\n",
        "2 * m_2 = -1 \\\\\n",
        "m_2 = \\frac{-1}{2}\n",
        "\\end{align*}\n",
        "$$\n",
        "\\\n",
        "New equation:\n",
        "$$\n",
        "\\begin{align*}\n",
        "y = \\frac{-1}{2}x + c \\\\\n",
        "2 = \\frac{-1}{2} + c \\\\\n",
        "c= 2 + \\frac{1}{2} = \\frac{5}{2}\\\\\n",
        "y = \\frac{-1}{2}x + \\frac{5}{2}\n",
        "\\end{align*}\n",
        "$$\n",
        "GeoGebra graph link: https://www.geogebra.org/calculator/ufx9fa8z"
      ],
      "metadata": {
        "id": "8Sscz9hXCrZK"
      }
    },
    {
      "cell_type": "markdown",
      "source": [
        "4. We have two lines  y=2x+3  and  y=3x+2 . Find the intersection point of these lines and calculate the angle between them.\n",
        "\n",
        "The 2 equations are equal if they intersect:\n",
        "$$\n",
        "\\begin{align*}\n",
        "2x + 3 = 3x + 2 \\\\\n",
        "-x = -1 \\\\\n",
        "x = 1\n",
        "\\end{align*}\n",
        "$$\n",
        "\\\n",
        "$$\n",
        "\\begin{align*}\n",
        "2(1) + 3 = 3(1) + 2 = 5 \\\\\n",
        "y = x + 5\n",
        "\\end{align*}\n",
        "$$\n",
        "Now finding the angle\n",
        "$$\n",
        "\\begin{align*}\n",
        "tan \\theta = |\\frac{m_2 - m_1}{1 + (m_1 * m_2)}| \\\\\n",
        "tan \\theta = \\frac{3 -2 }{1 + (3 * 2)} \\\\\n",
        "tan \\theta = \\frac{1}{7} \\\\\n",
        "arctangent(\\frac{1}{7}) \\approx 8.13\n",
        "\\end{align*}\n",
        "$$\n",
        "GeoGebra graph link: https://www.geogebra.org/calculator/shhwdstm"
      ],
      "metadata": {
        "id": "mWs0XSEiE6aj"
      }
    },
    {
      "cell_type": "markdown",
      "source": [
        "5. Write the equation of the line passing through point  A(1,2)  and parallel to the vector  v⃗ =[2,3] .\n",
        "\n",
        "$$\n",
        "\n",
        "$$"
      ],
      "metadata": {
        "id": "0AOsRei1JxHS"
      }
    },
    {
      "cell_type": "markdown",
      "source": [
        "6. We have the line  y=2x+3 . Find an example of a line perpendicular and parallel to it.\n",
        "\n",
        "Parallel (2, 3):\n",
        "$$\n",
        "\\begin{align*}\n",
        "y = 2x + c \\\\\n",
        "3 = 4 + c \\\\\n",
        "c = -1 \\\\\n",
        "y = 2x - 1\n",
        "\\end{align*}\n",
        "$$\n",
        "GeoGebra graph link: https://www.geogebra.org/calculator/wh2yjgew\n",
        "\\\n",
        "Perpendicular (2, 3):\n",
        "$$\n",
        "\\begin{align*}\n",
        "m_1(2) * m_2 = -1 \\\\\n",
        "m_2 = -\\frac{1}{2} \\\\\n",
        "y = -\\frac{1}{2}x + c \\\\\n",
        "3 = -\\frac{1}{2}(2) + c \\\\\n",
        "c = 4 \\\\\n",
        "y = -\\frac{1}{2}x + 4\n",
        "\\end{align*}\n",
        "$$\n",
        "GeoGebra graph link: https://www.geogebra.org/calculator/dxthd464"
      ],
      "metadata": {
        "id": "4CvNjQ9aKnwN"
      }
    },
    {
      "cell_type": "markdown",
      "source": [
        "7. We have the line  y=2x+3  and point  A(1,2) . Find the distance from point  A  to the line.\n",
        "\\\n",
        "\\\n",
        "Formula to find the distance:\n",
        "$$\n",
        "\\frac{|Ax + By + C|}{\\sqrt{A^2 + B^2}}\n",
        "$$\n",
        "\\\n",
        "Now we write it in the general form\n",
        "$$\n",
        "\\begin{align*}\n",
        "-2x + y - 3 \\\\\n",
        "\\frac{|(-2 * 1) + (1 * 2) - 3|}{\\sqrt{-2^2 + 1^2}} \\\\\n",
        "\\frac{3}{\\sqrt{5}}\n",
        "\\end{align*}\n",
        "$$\n",
        "Now we rationalize it\n",
        "$$\n",
        "\\frac{3 * \\sqrt{5}}{\\sqrt{5} * \\sqrt{5}} = \\frac{3\\sqrt{5}}{5}\n",
        "$$"
      ],
      "metadata": {
        "id": "0ZFNEw_uNFru"
      }
    },
    {
      "cell_type": "markdown",
      "source": [
        "8. The line intersects the coordinate axes at points  A(2,0)  and  B(0,3) . Find the equation of the line.\n",
        "\\\n",
        "\\\n",
        "Finding the gradient\n",
        "$$\n",
        "\\begin{align*}\n",
        "\\frac{y_2 - y_1}{x_2 - x_1} = \\frac{3-0}{0-2} = -\\frac{3}{2} \\\\\n",
        "y = -\\frac{3}{2}x + c \\\\\n",
        "3 = (-\\frac{3}{2} * 0) + c \\\\\n",
        "c = 3 \\\\\n",
        "y = -\\frac{3}{2}x + 3\n",
        "\\end{align*}\n",
        "$$\n",
        "Now we write it in the standard form\n",
        "\\\n",
        "$$\n",
        "\\begin{align*}\n",
        "\\frac{3}{2}x + y -3 = 0 \\\\\n",
        "3x + y(2) - 3(2) = 0 \\\\\n",
        "3x + 2y - 6 = 0\n",
        "\\end{align*}\n",
        "$$\n",
        "GeoGebra graph link: https://www.geogebra.org/calculator/mju3exek"
      ],
      "metadata": {
        "id": "MkLNVq6dghyY"
      }
    },
    {
      "cell_type": "markdown",
      "source": [
        "9. Calculate the angle between the line  y=x+3  and the  Ox  axis.\n",
        "\\\n",
        "\\\n",
        "$$\n",
        "\\begin{align*}\n",
        "m = 1 \\\\\n",
        "tan \\theta = |m| \\\\\n",
        "tan \\theta = 1 \\\\\n",
        "\\theta = 45 degrees\n",
        "\\end{align*}\n",
        "$$\n",
        "GeoGebra graph link: https://www.geogebra.org/calculator/bwu5kb6s"
      ],
      "metadata": {
        "id": "-iD5KjYgjPP5"
      }
    },
    {
      "cell_type": "markdown",
      "source": [
        "10. Provide a vector perpendicular to the line  x+y+1=0 ."
      ],
      "metadata": {
        "id": "VyQQfSj6klJb"
      }
    }
  ],
  "metadata": {
    "kernelspec": {
      "display_name": "Python 3",
      "language": "python",
      "name": "python3"
    },
    "language_info": {
      "codemirror_mode": {
        "name": "ipython",
        "version": 3
      },
      "file_extension": ".py",
      "mimetype": "text/x-python",
      "name": "python",
      "nbconvert_exporter": "python",
      "pygments_lexer": "ipython3",
      "version": "3.8.16"
    },
    "colab": {
      "provenance": []
    }
  },
  "nbformat": 4,
  "nbformat_minor": 0
}