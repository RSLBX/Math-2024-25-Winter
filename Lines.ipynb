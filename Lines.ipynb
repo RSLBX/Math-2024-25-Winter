{
  "cells": [
    {
      "cell_type": "markdown",
      "metadata": {
        "id": "oJU9ROBmqxtX"
      },
      "source": [
        "# Tasks Related to Equations of Lines on a Plane\n",
        "\n",
        "This notebook solves and visualizes the following tasks related to lines on a plane."
      ]
    },
    {
      "cell_type": "markdown",
      "metadata": {
        "id": "LKVSMNnIqxtb"
      },
      "source": [
        "## Tasks\n",
        "1. The line passes through points $A(1, 2)$ and $B(3, 4)$. Find the equation of the line.\n",
        "2. The line passes through point $A(1, 2)$ and is parallel to the line $y = 2x + 3$. Find the equation of the line.\n",
        "3. The line passes through point $A(1, 2)$ and is perpendicular to the line $y = 2x + 3$. Find the equation of the line.\n",
        "4. We have two lines $y = 2x + 3$ and $y = 3x + 2$. Find the intersection point of these lines and calculate the angle between them.\n",
        "5. Write the equation of the line passing through point $A(1, 2)$ and parallel to the vector $\\vec{v} = [2, 3]$.\n",
        "6. We have the line $y = 2x + 3$. Find an example of a line perpendicular and parallel to it.\n",
        "7. We have the line $y = 2x + 3$ and point $A(1, 2)$. Find the distance from point $A$ to the line.\n",
        "8. The line intersects the coordinate axes at points $A(2, 0)$ and $B(0, 3)$. Find the equation of the line.\n",
        "9. Calculate the angle between the line $y = x + 3$ and the $Ox$ axis.\n",
        "10. Provide a vector perpendicular to the line $x + y + 1 = 0$."
      ]
    },
    {
      "cell_type": "markdown",
      "source": [],
      "metadata": {
        "id": "NhU-tX8frG4Z"
      }
    }
  ],
  "metadata": {
    "kernelspec": {
      "display_name": "Python 3",
      "language": "python",
      "name": "python3"
    },
    "language_info": {
      "codemirror_mode": {
        "name": "ipython",
        "version": 3
      },
      "file_extension": ".py",
      "mimetype": "text/x-python",
      "name": "python",
      "nbconvert_exporter": "python",
      "pygments_lexer": "ipython3",
      "version": "3.8.16"
    },
    "colab": {
      "provenance": []
    }
  },
  "nbformat": 4,
  "nbformat_minor": 0
}