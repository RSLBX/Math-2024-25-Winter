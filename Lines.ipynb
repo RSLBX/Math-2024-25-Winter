{
  "cells": [
    {
      "cell_type": "markdown",
      "metadata": {},
      "source": [
        "# Tasks Related to Equations of Lines on a Plane\n",
        "\n",
        "This notebook solves and visualizes the following tasks related to lines on a plane."
      ]
    },
    {
      "cell_type": "markdown",
      "metadata": {},
      "source": [
        "## Tasks\n",
        "1. The line passes through points $A(1, 2)$ and $B(3, 4)$. Find the equation of the line.\n",
        "2. The line passes through point $A(1, 2)$ and is parallel to the line $y = 2x + 3$. Find the equation of the line.\n",
        "3. The line passes through point $A(1, 2)$ and is perpendicular to the line $y = 2x + 3$. Find the equation of the line.\n",
        "4. We have two lines $y = 2x + 3$ and $y = 3x + 2$. Find the intersection point of these lines and calculate the angle between them.\n",
        "5. Write the equation of the line passing through point $A(1, 2)$ and parallel to the vector $\\vec{v} = [2, 3]$.\n",
        "6. We have the line $y = 2x + 3$. Find an example of a line perpendicular and parallel to it.\n",
        "7. We have the line $y = 2x + 3$ and point $A(1, 2)$. Find the distance from point $A$ to the line.\n",
        "8. The line intersects the coordinate axes at points $A(2, 0)$ and $B(0, 3)$. Find the equation of the line.\n",
        "9. Calculate the angle between the line $y = x + 3$ and the $Ox$ axis.\n",
        "10. Provide a vector perpendicular to the line $x + y + 1 = 0$."
      ]
    },
    {
      "cell_type": "code",
      "execution_count": null,
      "metadata": {
        "colab": {
          "base_uri": "https://localhost:8080/",
          "height": 0
        },
        "outputId": "a925cddf-7c56-4b01-d44e-663191cf1424"
      },
      "outputs": [],
      "source": [
        "# Install necessary libraries\n",
        "!pip install sympy matplotlib\n",
        "\n",
        "import numpy as np\n",
        "import matplotlib.pyplot as plt\n",
        "from sympy import symbols, Eq, solve, atan, degrees, sqrt\n",
        "\n",
        "# Setup for visualization\n",
        "x = symbols('x')\n",
        "\n",
        "# Functions for plotting\n",
        "def plot_line(m, b, label, color='blue'):\n",
        "    X = np.linspace(-5, 5, 100)\n",
        "    Y = m * X + b\n",
        "    plt.plot(X, Y, label=label, color=color)\n",
        "\n",
        "def plot_point(point, label, color='red'):\n",
        "    plt.scatter(point[0], point[1], label=label, color=color)\n",
        "\n",
        "def solve_task_1():\n",
        "    # Task 1: Line through A(1, 2) and B(3, 4)\n",
        "    A, B = (1, 2), (3, 4)\n",
        "    slope = (B[1] - A[1]) / (B[0] - A[0])\n",
        "    intercept = A[1] - slope * A[0]\n",
        "    plot_line(slope, intercept, label=\"Task 1\", color=\"blue\")\n",
        "    plot_point(A, label=\"A (1,2)\", color=\"red\")\n",
        "    plot_point(B, label=\"B (3,4)\", color=\"green\")\n",
        "    return slope, intercept\n",
        "\n",
        "# Solve and visualize tasks\n",
        "plt.figure(figsize=(10, 6))\n",
        "slope, intercept = solve_task_1()\n",
        "plt.axhline(0, color='black',linewidth=0.5)\n",
        "plt.axvline(0, color='black',linewidth=0.5)\n",
        "plt.grid(color = 'gray', linestyle = '--', linewidth = 0.5)\n",
        "plt.legend()\n",
        "plt.title(\"Task 1: Line through Points\")\n",
        "plt.show()"
      ]
    }
  ],
  "metadata": {
    "kernelspec": {
      "display_name": "Python 3",
      "language": "python",
      "name": "python3"
    },
    "language_info": {
      "codemirror_mode": {
        "name": "ipython",
        "version": 3
      },
      "file_extension": ".py",
      "mimetype": "text/x-python",
      "name": "python",
      "nbconvert_exporter": "python",
      "pygments_lexer": "ipython3",
      "version": "3.8.16"
    }
  },
  "nbformat": 4,
  "nbformat_minor": 0
}
