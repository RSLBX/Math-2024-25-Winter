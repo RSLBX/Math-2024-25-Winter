{
  "cells": [
    {
      "cell_type": "markdown",
      "metadata": {
        "id": "view-in-github",
        "colab_type": "text"
      },
      "source": [
        "<a href=\"https://colab.research.google.com/github/RSLBX/Math-2024-25-Winter/blob/main/Copy_of_LA_SoLE__old_school_en.ipynb\" target=\"_parent\"><img src=\"https://colab.research.google.com/assets/colab-badge.svg\" alt=\"Open In Colab\"/></a>"
      ]
    },
    {
      "cell_type": "markdown",
      "metadata": {
        "id": "EsuiqUNDAY1O"
      },
      "source": [
        "# School Method for Solving Systems of Linear Equations"
      ]
    },
    {
      "cell_type": "code",
      "execution_count": null,
      "metadata": {
        "id": "Jg48IkNaAY1Q"
      },
      "outputs": [],
      "source": [
        "import sympy as sp\n",
        "from sympy import symbols, Eq, expand, solve\n",
        "\n",
        "class EnhancedEq(Eq):\n",
        "    def __add__(self, other):\n",
        "        return EnhancedEq(self.lhs + other.lhs, self.rhs + other.rhs)\n",
        "\n",
        "    def __sub__(self, other):\n",
        "        return EnhancedEq(self.lhs - other.lhs, self.rhs - other.rhs)\n",
        "\n",
        "    def __mul__(self, scalar):\n",
        "        return EnhancedEq(scalar * self.lhs, scalar * self.rhs)\n",
        "\n",
        "    def __rmul__(self, scalar):\n",
        "        return self.__mul__(scalar)\n",
        "\n",
        "    def simplify(self):\n",
        "        return EnhancedEq(expand(self.lhs), expand(self.rhs))\n",
        "\n",
        "    def substitute(self, *args, **kwargs):\n",
        "        return EnhancedEq(self.lhs.subs(*args, **kwargs), self.rhs.subs(*args, **kwargs))\n",
        "\n",
        "    def solve_for(self, symbol):\n",
        "        return solve(self, symbol)\n",
        "\n",
        "# Example usage:\n",
        "x, y = symbols('x y')\n",
        "\n",
        "# Define equations\n",
        "eq1 = EnhancedEq(2*x + y, 5)\n",
        "eq2 = EnhancedEq(x - y, 1)"
      ]
    },
    {
      "cell_type": "code",
      "execution_count": null,
      "metadata": {
        "id": "l8JFIGuKAY1S",
        "outputId": "57428461-af68-4118-9c7d-f94dfc5e5c0f"
      },
      "outputs": [
        {
          "name": "stdout",
          "output_type": "stream",
          "text": [
            "First equation:\n"
          ]
        },
        {
          "data": {
            "text/latex": [
              "$\\displaystyle 2 x + y = 5$"
            ],
            "text/plain": [
              "Eq(2*x + y, 5)"
            ]
          },
          "execution_count": 2,
          "metadata": {},
          "output_type": "execute_result"
        }
      ],
      "source": [
        "print(\"First equation:\")\n",
        "eq1"
      ]
    },
    {
      "cell_type": "code",
      "execution_count": null,
      "metadata": {
        "id": "EX1Oo0QjAY1T",
        "outputId": "3858b376-2e8b-4102-dc61-7ba9aafb9beb"
      },
      "outputs": [
        {
          "name": "stdout",
          "output_type": "stream",
          "text": [
            "Second equation:\n"
          ]
        },
        {
          "data": {
            "text/latex": [
              "$\\displaystyle x - y = 1$"
            ],
            "text/plain": [
              "Eq(x - y, 1)"
            ]
          },
          "execution_count": 3,
          "metadata": {},
          "output_type": "execute_result"
        }
      ],
      "source": [
        "print(\"Second equation:\")\n",
        "eq2"
      ]
    },
    {
      "cell_type": "code",
      "execution_count": null,
      "metadata": {
        "id": "Am9_ClJ4AY1U",
        "outputId": "5572d05b-3f01-4c7c-f8e3-86485d703a4b"
      },
      "outputs": [
        {
          "data": {
            "text/latex": [
              "$\\displaystyle 3 x = 6$"
            ],
            "text/plain": [
              "Eq(3*x, 6)"
            ]
          },
          "execution_count": 4,
          "metadata": {},
          "output_type": "execute_result"
        }
      ],
      "source": [
        "# Add the equations\n",
        "eq3 = eq1 + eq2\n",
        "eq3"
      ]
    },
    {
      "cell_type": "code",
      "execution_count": null,
      "metadata": {
        "id": "X1dHD_QqAY1U",
        "outputId": "a18c5daa-e970-4264-908b-eca595dc7d59"
      },
      "outputs": [
        {
          "data": {
            "text/latex": [
              "$\\displaystyle 2$"
            ],
            "text/plain": [
              "2"
            ]
          },
          "execution_count": 5,
          "metadata": {},
          "output_type": "execute_result"
        }
      ],
      "source": [
        "# We have an equation with one unknown, so we can solve it\n",
        "sol_x = eq3.solve_for(x)[0]\n",
        "sol_x"
      ]
    },
    {
      "cell_type": "code",
      "execution_count": null,
      "metadata": {
        "id": "sJ8KBhc0AY1U",
        "outputId": "8ee53d7b-d079-4884-8cb0-baf722832382"
      },
      "outputs": [
        {
          "data": {
            "text/latex": [
              "$\\displaystyle 2 - y = 1$"
            ],
            "text/plain": [
              "Eq(2 - y, 1)"
            ]
          },
          "execution_count": 6,
          "metadata": {},
          "output_type": "execute_result"
        }
      ],
      "source": [
        "# Substitute the solution into equation 2\n",
        "eq2 = eq2.substitute(x, sol_x)\n",
        "eq2"
      ]
    },
    {
      "cell_type": "code",
      "execution_count": null,
      "metadata": {
        "id": "uDvrroNXAY1V",
        "outputId": "95bab038-0478-4bff-fef1-e2ca66c41cee"
      },
      "outputs": [
        {
          "data": {
            "text/latex": [
              "$\\displaystyle 1$"
            ],
            "text/plain": [
              "1"
            ]
          },
          "execution_count": 7,
          "metadata": {},
          "output_type": "execute_result"
        }
      ],
      "source": [
        "# We get an equation with one unknown, so we can solve it\n",
        "eq2.solve_for(y)[0]"
      ]
    },
    {
      "cell_type": "code",
      "execution_count": null,
      "metadata": {
        "id": "GUBn5I65AY1V",
        "outputId": "751d7bab-06ed-4d29-c7a7-ade3c9f0a21d"
      },
      "outputs": [
        {
          "data": {
            "text/plain": [
              "{x: 2, y: 1}"
            ]
          },
          "execution_count": 8,
          "metadata": {},
          "output_type": "execute_result"
        }
      ],
      "source": [
        "# Thus x=2, y=1\n",
        "# Verify with sympy\n",
        "sp.solve([eq1, eq2])"
      ]
    },
    {
      "cell_type": "markdown",
      "metadata": {
        "id": "oye5HR_yAY1W"
      },
      "source": [
        "---\n",
        "\n",
        "### Exercises for Students\n",
        "\n",
        "Solve the following systems of equations similarly to the example above:\n",
        "\n",
        "* $3x-2y=5, \\quad 2x+3y=7$,\n",
        "* $2x-3y=10, \\quad 4x+5y=20$,\n",
        "* $2x - y + z = 3, \\quad x + 2y - z = 1, \\quad 3x - y + 2z = 11$.\n",
        "* $2x-3y+4z+2t=2, \\quad 3x+2y-5z+3t=3, \\quad 4x-3y+2z-5t=4, \\quad 5x+4y-3z+2t=5$."
      ]
    },
    {
      "cell_type": "markdown",
      "source": [
        "\n",
        "\\begin{align*}\n",
        "3x - 2y &= 5 \\quad  \\\\\n",
        "2x + 3y &= 7 \\quad\n",
        "\\end{align*}\n",
        " Solving for Y\n",
        "\\begin{align*}\n",
        "2 * (3x - 2y = 5) = 6x - 4y = 10 \\\\\n",
        "3 * (2x + 3y = 7) = 6x + 9y = 21\n",
        "\\end{align*}\n",
        "\n",
        "\\begin{align*}\n",
        "6x - 6x = 0x \\quad \\\\\n",
        "-4y - 9y = -13y \\quad \\\\\n",
        "10 - 21 = -11 \\quad \\\\\n",
        "0x - 13y = -11 \\quad \\\\\n",
        "y = \\frac{11}{13}\n",
        "\\end{align*}\n",
        "Solving for X\n",
        "\\begin{align*}\n",
        "3 * (3x - 2y = 5) = 9x - 6y = 15 \\quad \\\\\n",
        "2 * (2x + 3y = 7) = 4x + 6y = 14  \\quad \\\\\n",
        "6y + (-6y) = 0y \\quad \\\\\n",
        "9x + 4x = 13x \\quad \\\\\n",
        "13x = 29 \\quad \\\\\n",
        "x = \\frac{13}{29}\n",
        "\\end{align*}"
      ],
      "metadata": {
        "id": "jZmMp9O7A1lz"
      }
    },
    {
      "cell_type": "markdown",
      "source": [
        "\\begin{align*}\n",
        "2x - 3y &= 10 \\quad  \\\\\n",
        "4x + 5y &= 20 \\quad\n",
        "\\end{align*}\n",
        "Solving for Y\n",
        "\\begin{align*}\n",
        "2 * (2x - 3y = 10) = 4x - 6y = 20 \\quad \\\\\n",
        "1 * (4x + 5y = 20) = 4x + 5y = 20 \\quad \\\\\n",
        "4x - 4x = 0x \\quad \\\\\n",
        "-6y - 5y = 11y \\quad \\\\\n",
        "-11y = 0 \\quad \\\\\n",
        "y = 0\n",
        "\\end{align*}\n",
        "Solving for X (we substitute Y with 0)\n",
        "\\begin{align*}\n",
        "2x = 10 \\quad \\\\\n",
        "4x = 20 \\quad \\\\\n",
        "x = 5\n",
        "\\end{align*}"
      ],
      "metadata": {
        "id": "yPNfaVhuFrQb"
      }
    },
    {
      "cell_type": "markdown",
      "source": [
        "\\begin{align*}\n",
        "2x - y + z = 3 \\quad \\\\\n",
        "x + 2y - z = 1 \\quad \\\\\n",
        "3x - y + 2z = 11\n",
        "\\end{align*}\n",
        "In order to create the first equation we subtract equation one with two\n",
        "\\begin{align*}\n",
        "2x - y + z = 3 \\quad \\\\\n",
        "x + 2y - z = 1 \\quad \\\\ \\\\\n",
        "3x + y = 4\n",
        "\\end{align*}\n",
        "Now for the second equation we subtract euqation one with three\n",
        "\\begin{align*}\n",
        "2x - y + z = 3 \\quad \\\\\n",
        "3x - y + 2z = 11 \\quad \\\\ \\\\\n",
        "2 * (2x - y + z = 3) = 4x - 2y + 2z = 6 \\quad \\\\\n",
        "1 * (3x - y + 2z = 11) = 3x - y + 2z = 11 \\quad \\\\\n",
        "4x - 3x = x \\quad \\\\\n",
        "-2y - (-y) = -y \\quad \\\\\n",
        "6 - 11 = -5 \\quad \\\\\n",
        "x - y = -5\n",
        "\\end{align*}\n",
        "Our final equation is now ready\n",
        "\\begin{align*}\n",
        "3x + y = 4 \\quad \\\\\n",
        "x - y = -5 \\quad \\\\\n",
        "3x + x = 4x \\quad \\\\\n",
        "y - y = 0y \\quad \\\\\n",
        "4x = -1 \\quad \\\\\n",
        "x = \\frac{-1}{4} \\\\ \\\\\n",
        "\\frac{-1}{4} -  y = -5 \\quad \\\\\n",
        "-y = -5 + \\frac{1}{4} \\quad \\\\\n",
        "-y = \\frac{-19}{4} \\quad \\\\\n",
        "y = \\frac{19}{4}\n",
        "\\end{align*}\n",
        "To find the value of Z we substitute the values we found for X and Y in places of the equation. I will substitute it with 2x -y + z = 3\n",
        "\\begin{align*}\n",
        "\\frac{-1}{2} - \\frac{19}{4} + z = 3 \\quad \\\\\n",
        "z = \\frac{33}{4}\n",
        "\\end{align*}"
      ],
      "metadata": {
        "id": "KjNPa2V9G9CV"
      }
    }
  ],
  "metadata": {
    "kernelspec": {
      "display_name": "Python 3",
      "language": "python",
      "name": "python3"
    },
    "language_info": {
      "codemirror_mode": {
        "name": "ipython",
        "version": 3
      },
      "file_extension": ".py",
      "mimetype": "text/x-python",
      "name": "python",
      "nbconvert_exporter": "python",
      "pygments_lexer": "ipython3",
      "version": "3.11.9"
    },
    "colab": {
      "provenance": [],
      "include_colab_link": true
    }
  },
  "nbformat": 4,
  "nbformat_minor": 0
}