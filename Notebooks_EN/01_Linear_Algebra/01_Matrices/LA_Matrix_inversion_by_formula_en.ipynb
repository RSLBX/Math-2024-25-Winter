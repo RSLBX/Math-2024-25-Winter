{
  "cells": [
    {
      "cell_type": "markdown",
      "metadata": {
        "id": "view-in-github",
        "colab_type": "text"
      },
      "source": [
        "<a href=\"https://colab.research.google.com/github/RSLBX/Math-2024-25-Winter/blob/main/Copy_of_LA_Matrix_inversion_by_formula_en.ipynb\" target=\"_parent\"><img src=\"https://colab.research.google.com/assets/colab-badge.svg\" alt=\"Open In Colab\"/></a>"
      ]
    },
    {
      "cell_type": "markdown",
      "metadata": {
        "id": "D2li8mMddV7t"
      },
      "source": [
        "# Matrix Inversion\n",
        "\n",
        "The inverse of a matrix $A$ is a matrix $A^{-1}$ such that $A \\cdot A^{-1} = A^{-1} \\cdot A = I$, where $I$ is the identity matrix.\n",
        "\n",
        "**Example 1:**"
      ]
    },
    {
      "cell_type": "code",
      "execution_count": null,
      "metadata": {
        "id": "v6Du45QldV7u",
        "outputId": "3dfe85d5-3e71-4000-bc01-32213999859f"
      },
      "outputs": [
        {
          "data": {
            "text/latex": [
              "$\\displaystyle \\left[\\begin{matrix}2 & 1 & 2\\\\5 & 3 & 1\\\\1 & 1 & 5\\end{matrix}\\right]$"
            ],
            "text/plain": [
              "Matrix([\n",
              "[2, 1, 2],\n",
              "[5, 3, 1],\n",
              "[1, 1, 5]])"
            ]
          },
          "execution_count": 1,
          "metadata": {},
          "output_type": "execute_result"
        }
      ],
      "source": [
        "import sympy as sp # import sympy library\n",
        "k1 = sp.Matrix([[2, 1, 2], [5, 3, 1], [1, 1, 5]]) # create matrix k1\n",
        "k1"
      ]
    },
    {
      "cell_type": "code",
      "execution_count": null,
      "metadata": {
        "id": "X5bkd4SxdV7v",
        "outputId": "00600aa3-f809-4978-b28a-88a921212890"
      },
      "outputs": [
        {
          "data": {
            "text/latex": [
              "$\\displaystyle \\left[\\begin{matrix}\\frac{7}{4} & - \\frac{3}{8} & - \\frac{5}{8}\\\\-3 & 1 & 1\\\\\\frac{1}{4} & - \\frac{1}{8} & \\frac{1}{8}\\end{matrix}\\right]$"
            ],
            "text/plain": [
              "Matrix([\n",
              "[7/4, -3/8, -5/8],\n",
              "[ -3,    1,    1],\n",
              "[1/4, -1/8,  1/8]])"
            ]
          },
          "execution_count": 2,
          "metadata": {},
          "output_type": "execute_result"
        }
      ],
      "source": [
        "inverse_k1 = k1.inv() # calculate the inverse of matrix k1\n",
        "inverse_k1"
      ]
    },
    {
      "cell_type": "code",
      "execution_count": null,
      "metadata": {
        "id": "NgCi-1DOdV7v",
        "outputId": "0ed28d38-f336-475e-e3ae-ac2c1e42789f"
      },
      "outputs": [
        {
          "data": {
            "text/latex": [
              "$\\displaystyle \\left[\\begin{matrix}1 & 0 & 0\\\\0 & 1 & 0\\\\0 & 0 & 1\\end{matrix}\\right]$"
            ],
            "text/plain": [
              "Matrix([\n",
              "[1, 0, 0],\n",
              "[0, 1, 0],\n",
              "[0, 0, 1]])"
            ]
          },
          "execution_count": 3,
          "metadata": {},
          "output_type": "execute_result"
        }
      ],
      "source": [
        "k1 * inverse_k1 # verify if multiplying the matrix by its inverse yields the identity matrix"
      ]
    },
    {
      "cell_type": "markdown",
      "metadata": {
        "id": "hMUktJExdV7w"
      },
      "source": [
        "**Example 2:**"
      ]
    },
    {
      "cell_type": "code",
      "execution_count": null,
      "metadata": {
        "id": "tnbyUx-tdV7w",
        "outputId": "e3fc9c73-0595-47a0-dbc6-19878b7f019a"
      },
      "outputs": [
        {
          "data": {
            "text/latex": [
              "$\\displaystyle \\left[\\begin{matrix}\\frac{e i - f h}{a e i - a f h - b d i + b f g + c d h - c e g} & \\frac{- b i + c h}{a e i - a f h - b d i + b f g + c d h - c e g} & \\frac{b f - c e}{a e i - a f h - b d i + b f g + c d h - c e g}\\\\\\frac{- d i + f g}{a e i - a f h - b d i + b f g + c d h - c e g} & \\frac{a i - c g}{a e i - a f h - b d i + b f g + c d h - c e g} & \\frac{- a f + c d}{a e i - a f h - b d i + b f g + c d h - c e g}\\\\\\frac{d h - e g}{a e i - a f h - b d i + b f g + c d h - c e g} & \\frac{- a h + b g}{a e i - a f h - b d i + b f g + c d h - c e g} & \\frac{a e - b d}{a e i - a f h - b d i + b f g + c d h - c e g}\\end{matrix}\\right]$"
            ],
            "text/plain": [
              "Matrix([\n",
              "[ (e*i - f*h)/(a*e*i - a*f*h - b*d*i + b*f*g + c*d*h - c*e*g), (-b*i + c*h)/(a*e*i - a*f*h - b*d*i + b*f*g + c*d*h - c*e*g),  (b*f - c*e)/(a*e*i - a*f*h - b*d*i + b*f*g + c*d*h - c*e*g)],\n",
              "[(-d*i + f*g)/(a*e*i - a*f*h - b*d*i + b*f*g + c*d*h - c*e*g),  (a*i - c*g)/(a*e*i - a*f*h - b*d*i + b*f*g + c*d*h - c*e*g), (-a*f + c*d)/(a*e*i - a*f*h - b*d*i + b*f*g + c*d*h - c*e*g)],\n",
              "[ (d*h - e*g)/(a*e*i - a*f*h - b*d*i + b*f*g + c*d*h - c*e*g), (-a*h + b*g)/(a*e*i - a*f*h - b*d*i + b*f*g + c*d*h - c*e*g),  (a*e - b*d)/(a*e*i - a*f*h - b*d*i + b*f*g + c*d*h - c*e*g)]])"
            ]
          },
          "execution_count": 4,
          "metadata": {},
          "output_type": "execute_result"
        }
      ],
      "source": [
        "import sympy as sp\n",
        "a, b, c, d, e, f, g, h, i = sp.symbols('a b c d e f g h i') # define variables a-i\n",
        "k = sp.Matrix([[a, b, c], [d, e, f], [g, h, i]]) # create matrix k\n",
        "inverse_k = k.inv()\n",
        "inverse_k"
      ]
    },
    {
      "cell_type": "markdown",
      "metadata": {
        "id": "aTMecpEBdV7w"
      },
      "source": [
        "This complex form results from the formula that allows for the calculation of the elements of the inverse matrix. Before we proceed, let's define a few concepts.\n",
        "\n",
        "**Matrix Transposition** is an operation that swaps rows with columns. The transpose of a matrix $A$ is a matrix $A^T$ such that $A^T_{ij} = A_{ji}$."
      ]
    },
    {
      "cell_type": "code",
      "execution_count": null,
      "metadata": {
        "id": "W9moTuVsdV7w",
        "outputId": "6381de27-0723-4ecd-caca-6543bf2d65b4"
      },
      "outputs": [
        {
          "data": {
            "text/latex": [
              "$\\displaystyle \\left[\\begin{matrix}a & b & c\\\\d & e & f\\\\g & h & i\\end{matrix}\\right]$"
            ],
            "text/plain": [
              "Matrix([\n",
              "[a, b, c],\n",
              "[d, e, f],\n",
              "[g, h, i]])"
            ]
          },
          "execution_count": 5,
          "metadata": {},
          "output_type": "execute_result"
        }
      ],
      "source": [
        "k"
      ]
    },
    {
      "cell_type": "code",
      "execution_count": null,
      "metadata": {
        "id": "4jyE7PQrdV7x",
        "outputId": "611615a0-b387-4efe-8e9c-06860be94ee8"
      },
      "outputs": [
        {
          "data": {
            "text/latex": [
              "$\\displaystyle \\left[\\begin{matrix}a & d & g\\\\b & e & h\\\\c & f & i\\end{matrix}\\right]$"
            ],
            "text/plain": [
              "Matrix([\n",
              "[a, d, g],\n",
              "[b, e, h],\n",
              "[c, f, i]])"
            ]
          },
          "execution_count": 6,
          "metadata": {},
          "output_type": "execute_result"
        }
      ],
      "source": [
        "k.transpose() # transpose matrix k"
      ]
    },
    {
      "cell_type": "markdown",
      "metadata": {
        "id": "SorRyysXdV7x"
      },
      "source": [
        "**Minor** of a matrix $A$ is the determinant of the matrix obtained by removing the $i$-th row and $j$-th column. We denote it by $M_{ij}$."
      ]
    },
    {
      "cell_type": "code",
      "execution_count": null,
      "metadata": {
        "id": "3K8Rse-ZdV7x",
        "outputId": "3475c54a-561b-4266-aec0-60609389f58c"
      },
      "outputs": [
        {
          "data": {
            "text/latex": [
              "$\\displaystyle \\left[\\begin{matrix}1 & 2 & 3\\\\4 & 5 & 6\\\\7 & 8 & 9\\end{matrix}\\right]$"
            ],
            "text/plain": [
              "Matrix([\n",
              "[1, 2, 3],\n",
              "[4, 5, 6],\n",
              "[7, 8, 9]])"
            ]
          },
          "execution_count": 7,
          "metadata": {},
          "output_type": "execute_result"
        }
      ],
      "source": [
        "# Minor of matrix $A$ is the determinant of the matrix obtained by removing the $i$-th row and $j$-th column. We denote it by $M_{ij}$.\n",
        "k2 = sp.Matrix([[1, 2, 3], [4, 5, 6], [7, 8, 9]])\n",
        "k2"
      ]
    },
    {
      "cell_type": "code",
      "execution_count": null,
      "metadata": {
        "id": "3uDb1l-KdV7y",
        "outputId": "0da1bd6f-f133-47bd-f599-880abd89bbb9"
      },
      "outputs": [
        {
          "data": {
            "text/latex": [
              "$\\displaystyle \\left[\\begin{matrix}4 & 6\\\\7 & 9\\end{matrix}\\right]$"
            ],
            "text/plain": [
              "Matrix([\n",
              "[4, 6],\n",
              "[7, 9]])"
            ]
          },
          "execution_count": 8,
          "metadata": {},
          "output_type": "execute_result"
        }
      ],
      "source": [
        "M01 = k2.minor_submatrix(0, 1) # calculate minor M01\n",
        "M01"
      ]
    },
    {
      "cell_type": "code",
      "execution_count": null,
      "metadata": {
        "id": "V7zmup5XdV7y",
        "outputId": "51fa3adb-854b-4453-aae7-73e08adb736c"
      },
      "outputs": [
        {
          "data": {
            "text/latex": [
              "$\\displaystyle \\left[\\begin{matrix}1 & 2\\\\4 & 5\\end{matrix}\\right]$"
            ],
            "text/plain": [
              "Matrix([\n",
              "[1, 2],\n",
              "[4, 5]])"
            ]
          },
          "execution_count": 9,
          "metadata": {},
          "output_type": "execute_result"
        }
      ],
      "source": [
        "M22 = k2.minor_submatrix(2, 2) # calculate minor M22\n",
        "M22"
      ]
    },
    {
      "cell_type": "markdown",
      "metadata": {
        "id": "4KiPTcqLdV7y"
      },
      "source": [
        "**Cofactor** of element $a_{ij} = (-1)^{i+j} \\, M_{ij}$, which is the minor multiplied by $(-1)^{i+j}$.\n",
        "\n",
        "**Rank of a Matrix** is the largest degree of a non-zero minor of the matrix. The rank of a matrix is equal to the number of linearly independent rows or columns in the matrix."
      ]
    },
    {
      "cell_type": "code",
      "execution_count": null,
      "metadata": {
        "id": "py2rlPmidV7y",
        "outputId": "88b027f2-7333-4c5c-9994-9028ae3c235f"
      },
      "outputs": [
        {
          "data": {
            "text/plain": [
              "2"
            ]
          },
          "execution_count": 10,
          "metadata": {},
          "output_type": "execute_result"
        }
      ],
      "source": [
        "k2.rank() # calculate the rank of matrix k2"
      ]
    },
    {
      "cell_type": "markdown",
      "metadata": {
        "id": "SOQ9F9nndV7z"
      },
      "source": [
        "### Inverse of a 3x3 Matrix\n",
        "\n",
        "Using the transpose of the cofactor matrix (minors):\n",
        "\n",
        "$$K^{-1} =\n",
        "\\begin{bmatrix}\n",
        "a & b & c \\\\\n",
        "d & e & f \\\\\n",
        "g & h & i\n",
        "\\end{bmatrix}^{-1}\n",
        "= \\frac{1}{\\det(\\mathbf{K})}\n",
        "\\begin{bmatrix}\n",
        "A & B & C \\\\\n",
        "D & E & F \\\\\n",
        "G & H & I\n",
        "\\end{bmatrix}^T\n",
        "= \\frac{1}{\\det(\\mathbf{A})}\n",
        "\\begin{bmatrix}\n",
        "A & D & G \\\\\n",
        "B & E & H \\\\\n",
        "C & F & I\n",
        "\\end{bmatrix}\n",
        "$$\n",
        "\n",
        "If the determinant is non-zero, the matrix is invertible, and the elements of the intermediate matrix on the right-hand side of the above formula are determined by:\n",
        "\n",
        "$$\n",
        "\\begin{aligned}\n",
        "A &= \\text{det} \\left( \\begin{bmatrix} e & f \\\\ h & i \\end{bmatrix} \\right) & B &= -\\text{det} \\left( \\begin{bmatrix} d & f \\\\ g & i \\end{bmatrix} \\right) & C &= \\text{det} \\left( \\begin{bmatrix} d & e \\\\ g & h \\end{bmatrix} \\right) \\\\\n",
        "D &= -\\text{det} \\left( \\begin{bmatrix} b & c \\\\ h & i \\end{bmatrix} \\right) & E &= \\text{det} \\left( \\begin{bmatrix} a & c \\\\ g & i \\end{bmatrix} \\right) & F &= -\\text{det} \\left( \\begin{bmatrix} a & b \\\\ g & h \\end{bmatrix} \\right) \\\\\n",
        "G &= \\text{det} \\left( \\begin{bmatrix} b & c \\\\ e & f \\end{bmatrix} \\right) & H &= -\\text{det} \\left( \\begin{bmatrix} a & c \\\\ d & f \\end{bmatrix} \\right) & I &= \\text{det} \\left( \\begin{bmatrix} a & b \\\\ d & e \\end{bmatrix} \\right)\n",
        "\\end{aligned}\n",
        "$$\n",
        "\n",
        "These are the determinants of 2x2 matrices formed by removing the appropriate rows and columns and taking into account the sign $(-1)^{i+j}$.\n",
        "\n",
        "### Inverse of a 2x2 Matrix\n",
        "\n",
        "Similarly, for a 2x2 matrix, the inverse can be calculated using the cofactor matrix:\n",
        "\n",
        "$$\n",
        "\\mathbf{L}^{-1} =\n",
        "\\begin{bmatrix}\n",
        "a & b \\\\\n",
        "c & d\n",
        "\\end{bmatrix}^{-1}\n",
        "= \\frac{1}{\\det(\\mathbf{L})}\n",
        "\\begin{bmatrix}\n",
        "D & C \\\\\n",
        "B & A\n",
        "\\end{bmatrix}^T\n",
        "= \\frac{1}{\\det(\\mathbf{L})}\n",
        "\\begin{bmatrix}\n",
        "D & B \\\\\n",
        "C & A\n",
        "\\end{bmatrix}\n",
        "$$\n",
        "\n",
        "where $\\det(\\mathbf{L}) = ad - bc$\n",
        "\n",
        "If the determinant is non-zero, the matrix is invertible, and the elements of the intermediate matrix are given as:\n",
        "\n",
        "$$\n",
        "\\begin{aligned}\n",
        "A &= \\text{det} \\begin{bmatrix} d \\end{bmatrix} = d, & B &= -\\text{det} \\begin{bmatrix} b \\end{bmatrix} = -b, & C &= -\\text{det} \\begin{bmatrix} c \\end{bmatrix} = -c, &\n",
        "D &= \\text{det} \\begin{bmatrix} a \\end{bmatrix} = a.\n",
        "\\end{aligned}\n",
        "$$\n",
        "\n",
        "These elements are determined by calculating the determinants of 1x1 matrices formed by removing the appropriate rows and columns from the original 2x2 matrix and applying the corresponding signs $(-1)^{i+j}$."
      ]
    },
    {
      "cell_type": "markdown",
      "metadata": {
        "id": "YL9klpEtdV7z"
      },
      "source": [
        "---\n",
        "\n",
        "## Exercises for Students\n",
        "\n",
        "1. Find the inverse matrix for\n",
        "\n",
        "$$\n",
        "\\begin{bmatrix}\n",
        "2 & 0 & 1 \\\\\n",
        "0 & 1 & 0 \\\\\n",
        "1 & 2 & 0\n",
        "\\end{bmatrix}\n",
        "$$\n",
        "\n",
        "and verify if the result is correct.\n",
        "\n",
        "2. Using the `det()` command, determine the rank of the matrix below\n",
        "$$\n",
        "A =\n",
        "\\begin{bmatrix}\n",
        "4 & -3 & 7 \\\\\n",
        "-1 & 6 & 3 \\\\\n",
        "2 & 9 & 1\n",
        "\\end{bmatrix}\n",
        "$$"
      ]
    },
    {
      "cell_type": "markdown",
      "source": [
        "I'll name this matrix, A\n",
        "\n",
        "$$\n",
        "A = \\begin{bmatrix}\n",
        "2 & 0 & 1 \\\\\n",
        "0 & 1 & 0 \\\\\n",
        "1 & 2 & 0\n",
        "\\end{bmatrix}\n",
        "$$\n",
        "\n",
        "$$\n",
        "\\text{det}(A) = 2 \\begin{vmatrix} 1 & 0 \\\\ 2 & 0 \\end{vmatrix} - 0 + 1 \\begin{vmatrix} 0 & 1 \\\\ 1 & 2 \\end{vmatrix}\n",
        "$$\n",
        "\n",
        "$$\n",
        "\\text{det}(A) = 2(0) + 0 + 1(-1) = -1\n",
        "$$\n",
        "\n",
        "$$\n",
        "C = \\begin{bmatrix}\n",
        "0 & 0 & -1 \\\\\n",
        "1 & -1 & -4 \\\\\n",
        "-1 & 0 & 2\n",
        "\\end{bmatrix}\n",
        "$$\n",
        "\n",
        "$$\n",
        "\\text{Adj}(A) = \\begin{bmatrix}\n",
        "0 & 1 & -1 \\\\\n",
        "0 & -1 & 0 \\\\\n",
        "-1 & -4 & 2\n",
        "\\end{bmatrix}\n",
        "$$\n",
        "\n",
        "### Answer\n",
        "\n",
        "$$\n",
        "A^{-1} = \\frac{1}{\\text{det}({-1})} \\cdot \\text{Adj}(A) = -\\text{Adj}(A) = \\begin{bmatrix}\n",
        "0 & -2 & 1 \\\\\n",
        "0 & 1 & 0 \\\\\n",
        "1 & 4 & -2\n",
        "\\end{bmatrix}\n",
        "$$\n"
      ],
      "metadata": {
        "id": "xENhsbC4dX0K"
      }
    },
    {
      "cell_type": "code",
      "source": [
        "import sympy as lib\n",
        "\n",
        "lib.Matrix([[2, 0, 1], [0, 1, 0], [1, 2, 0]]).inv()"
      ],
      "metadata": {
        "colab": {
          "base_uri": "https://localhost:8080/",
          "height": 78
        },
        "id": "4G5IiZ-3dh6B",
        "outputId": "af40183a-c12f-4dee-d7bf-7c35a71021d6"
      },
      "execution_count": null,
      "outputs": [
        {
          "output_type": "execute_result",
          "data": {
            "text/plain": [
              "Matrix([\n",
              "[0, -2,  1],\n",
              "[0,  1,  0],\n",
              "[1,  4, -2]])"
            ],
            "text/latex": "$\\displaystyle \\left[\\begin{matrix}0 & -2 & 1\\\\0 & 1 & 0\\\\1 & 4 & -2\\end{matrix}\\right]$"
          },
          "metadata": {},
          "execution_count": 7
        }
      ]
    },
    {
      "cell_type": "markdown",
      "source": [
        "$$\n",
        "A =\n",
        "\\begin{bmatrix}\n",
        "4 & -3 & 7 \\\\\n",
        "-1 & 6 & 3 \\\\\n",
        "2 & 9 & 1\n",
        "\\end{bmatrix}\n",
        "$$\n",
        "\n",
        "$$\n",
        "\\text{det}(A) = 4 \\begin{vmatrix} 6 & 3 \\\\ 9 & 1 \\end{vmatrix} + 3 \\begin{vmatrix} -1 & 3 \\\\ 2 & 1 \\end{vmatrix} + 7 \\begin{vmatrix} -1 & 6 \\\\ 2 & 9 \\end{vmatrix}\n",
        "$$\n",
        "\n",
        "\n",
        "$$\n",
        "\\text{det}(A) = -252\n",
        "$$\n",
        "\n",
        "### The detriment of A is not 0\n",
        "\n",
        "$$\n",
        "\\text{rank}(A) = 3\n",
        "$$\n"
      ],
      "metadata": {
        "id": "5TvuXQyTexJJ"
      }
    },
    {
      "cell_type": "code",
      "source": [
        "import sympy as s\n",
        "A = s.Matrix([[4, -3, 7], [-1, 6, 3], [2, 9, 1]])\n",
        "det_A = A.det()\n",
        "print(\"det(A):\", det_A)\n"
      ],
      "metadata": {
        "colab": {
          "base_uri": "https://localhost:8080/"
        },
        "id": "21udL9-DfUC4",
        "outputId": "00773f83-1f47-4052-cbcd-02e22e290e9e"
      },
      "execution_count": null,
      "outputs": [
        {
          "output_type": "stream",
          "name": "stdout",
          "text": [
            "Determinant of A: -252\n"
          ]
        }
      ]
    },
    {
      "cell_type": "code",
      "source": [
        "rank_A = A.rank()\n",
        "print(\"rank(A):\", rank_A)"
      ],
      "metadata": {
        "colab": {
          "base_uri": "https://localhost:8080/"
        },
        "id": "RNwGpIwbgLsR",
        "outputId": "361a31ad-cba1-43d6-e158-e53752fa55a0"
      },
      "execution_count": null,
      "outputs": [
        {
          "output_type": "stream",
          "name": "stdout",
          "text": [
            "rank(A): 3\n"
          ]
        }
      ]
    }
  ],
  "metadata": {
    "kernelspec": {
      "display_name": "Python 3",
      "language": "python",
      "name": "python3"
    },
    "language_info": {
      "codemirror_mode": {
        "name": "ipython",
        "version": 3
      },
      "file_extension": ".py",
      "mimetype": "text/x-python",
      "name": "python",
      "nbconvert_exporter": "python",
      "pygments_lexer": "ipython3",
      "version": "3.11.9"
    },
    "colab": {
      "provenance": [],
      "include_colab_link": true
    }
  },
  "nbformat": 4,
  "nbformat_minor": 0
}
