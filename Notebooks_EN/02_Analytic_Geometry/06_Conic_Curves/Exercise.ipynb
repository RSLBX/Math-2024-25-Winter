{
  "cells": [
    {
      "cell_type": "markdown",
      "metadata": {
        "id": "RkjB9MZS3wUq"
      },
      "source": [
        "## Tasks Related to Conic Sections\n",
        "\n",
        "**Visualize each task.** Use tools like Python, GeoGebra, Wolfram Alpha, etc.\n"
      ],
      "id": "RkjB9MZS3wUq"
    },
    {
      "cell_type": "markdown",
      "metadata": {
        "id": "VPea8DZ03wUs"
      },
      "source": [
        "\n",
        "Find the equation of a circle with center at point $A(1,2)$ and radius $r=3$.\n",
        "\\\n",
        "Formula\n",
        "$$\n",
        "\\begin{align*}\n",
        "(x -a )^2 + (y-b)^2 = r^2 \\\\\n",
        "(x -1)^2 + (y -2)^2 = 3^2 \\\\\n",
        "(x -1)^2 + (y -2)^2 = 9\n",
        "\\end{align*}\n",
        "$$"
      ],
      "id": "VPea8DZ03wUs"
    },
    {
      "cell_type": "markdown",
      "metadata": {
        "id": "u8-u66VY3wUt"
      },
      "source": [
        "\n",
        "Find the equation of a parabola intersecting the $Ox$ axis at points $x=2$, $x=4$, and passing through point $y(3)=1$.\n",
        "\\\n",
        "Formula\n",
        "\\\n",
        "$$\n",
        "\\begin{align*}\n",
        "y=a(x−x_1)(x−x2_) \\\\\n",
        "1 = a(3-2)(3-4) \\\\\n",
        "a = -1 \\\\\n",
        "y = -1(x-2)(x-4) \\\\\n",
        "y = -x^2 + 6x -8\n",
        "\\end{align*}\n",
        "$$"
      ],
      "id": "u8-u66VY3wUt"
    },
    {
      "cell_type": "markdown",
      "metadata": {
        "id": "VD3rl2-f3wUt"
      },
      "source": [
        "\n",
        "Find the center of the ellipse with the equation $x^2 + 4y^2 - 4x - 16y + 16 = 0$.\n",
        "\\\n",
        "$$\n",
        "\\begin{aligned}\n",
        "(x^2 - 4x) + 4(y^2 - 4y) = -16 \\\\\n",
        "(x - 2)^2 - 4 + 4\\big((y - 2)^2 - 4\\big) = -16 \\\\\n",
        "(x - 2)^2 - 4 + 4(y - 2)^2 - 16 = -16 \\\\\n",
        "(x - 2)^2 + 4(y - 2)^2 - 20 = -16 \\\\\n",
        "(x - 2)^2 + 4(y - 2)^2 = 4 \\\\\n",
        "\\frac{(x - 2)^2}{4} + \\frac{(y - 2)^2}{1} = 1 \\\\\n",
        "(2, 2)\n",
        "\\end{aligned}\n",
        "$$"
      ],
      "id": "VD3rl2-f3wUt"
    },
    {
      "cell_type": "markdown",
      "metadata": {
        "id": "RYM9FLNQ3wUt"
      },
      "source": [
        "\n",
        "Find the intersection points of the hyperbola $x^2 - y^2 = 1$ with the ellipse's line $x^2 + 4y^2 = 6$.\n",
        "\\\n",
        "$$\n",
        "\\begin{align*}\n",
        "x^2 = 1 + y^2 \\\\\n",
        "1 + y^2 + 4y^2 = 6 \\\\\n",
        "1 + 5y^2 = 6 \\\\\n",
        "5y^2 = 5 \\\\\n",
        "y = 1 or -1\n",
        "\\end{align*}\n",
        "$$\n",
        "\\\n",
        "$$\n",
        "x^2 = \\sqrt{2} or -\\sqrt{2}\n",
        "$$\n",
        "\\\n",
        "$$\n",
        "(\\sqrt{2}, 1) or (-\\sqrt{2}, 1)\n",
        "$$"
      ],
      "id": "RYM9FLNQ3wUt"
    },
    {
      "cell_type": "markdown",
      "metadata": {
        "id": "6DSp4LWO3wUu"
      },
      "source": [
        "For the given hyperbola $x^2 - y^2 = 1$, find the distance between its branches.\n",
        "\\\n",
        "Formula\n",
        "\\\n",
        "$$\n",
        "\\begin{align*}\n",
        "\\frac{x^2}{a^2} - \\frac{y^2}{b^2} = 1 \\\\\n",
        "a^2 = 1; b^2 = 1 \\\\\n",
        "\\frac{x^2}{1} - \\frac{y^2}{1} = 1 \\\\\n",
        "\\end{align*}\n",
        "$$\n",
        "Now we need to find the value of X, we give the value of y, 0\n",
        "\\\n",
        "$$\n",
        "x^2 - 0 = 1\n",
        "$$\n",
        "\\\n",
        "$$\n",
        "x = 1 or x = -1\n",
        "$$\n",
        "Distance\n",
        "\\\n",
        "$$\n",
        "1 - (-1) = 2\n",
        "$$"
      ],
      "id": "6DSp4LWO3wUu"
    }
  ],
  "metadata": {
    "kernelspec": {
      "display_name": "Python 3",
      "language": "python",
      "name": "python3"
    },
    "language_info": {
      "codemirror_mode": {
        "name": "ipython",
        "version": 3
      },
      "file_extension": ".py",
      "mimetype": "text/x-python",
      "name": "python",
      "nbconvert_exporter": "python",
      "pygments_lexer": "ipython3",
      "version": "3.8.10"
    },
    "colab": {
      "provenance": []
    }
  },
  "nbformat": 4,
  "nbformat_minor": 5
}