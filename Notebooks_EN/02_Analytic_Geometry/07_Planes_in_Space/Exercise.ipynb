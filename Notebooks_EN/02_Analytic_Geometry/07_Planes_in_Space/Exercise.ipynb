{
 "cells": [
  {
   "cell_type": "markdown",
   "metadata": {},
   "source": [
    "# Tasks related to equations of planes in space\n",
    "\n",
    "This notebook contains various tasks related to the equations of planes in space, and solutions are provided using Python.\n",
    "\n",
    "Let's explore each task step by step."
   ]
  },
  {
   "cell_type": "markdown",
   "metadata": {},
   "source": [
    "### Task 1: Find the equation of the plane passing through points A(1, 2, 3), B(3, 4, 5), and C(2, 1, 4).\n",
    "\n",
    "We need to find the normal vector to the plane using the cross product of the vectors AB and AC.\n",
    "Then we can use the point A and the normal vector to find the equation of the plane."
   ]
  },
  {
   "cell_type": "markdown",
   "metadata": {},
   "source": [
    "### Task 2: Find the equation of the plane passing through point A(1, 2, 3) and parallel to the plane $2x + 3y + 4z = 5$.\n",
    "\n",
    "Since the plane is parallel to another plane, their normal vectors must be parallel. The normal vector of the given plane is $[2, 3, 4]$. Therefore, the equation of the required plane will have the same normal vector, and we can use point A to find the equation."
   ]
  },
  {
   "cell_type": "markdown",
   "metadata": {},
   "source": [
    "### Task 3: Find the equation of the plane passing through point A(1, 2, 3) and perpendicular to the normal vector $\\vec{n} = [2, 3, 4]$.\n",
    "\n",
    "The normal vector of the plane will be the same as the given vector $[2, 3, 4]$. Using this vector and point A, we can derive the equation of the plane."
   ]
  },
  {
   "cell_type": "markdown",
   "metadata": {},
   "source": [
    "### Task 4: Find the line of intersection of the planes $2x + 3y + 4z = 5$ and $3x + 4y + 2z = 6$.\n",
    "\n",
    "We need to find the direction vector of the line by taking the cross product of the normal vectors of the planes. Then we can solve the system of equations to find a point on the line and write the parametric form of the line."
   ]
  },
  {
   "cell_type": "markdown",
   "metadata": {},
   "source": [
    "### Task 5: Write the equation of the plane passing through point A(1, 2, 3) and parallel to vectors $\\vec{v_1} = [1, 0, 1]$ and $\\vec{v_2} = [0, 1, -1]$.\n",
    "\n",
    "The normal vector of the plane will be the cross product of vectors $\\vec{v_1}$ and $\\vec{v_2}$. Using this normal vector and point A, we can derive the equation of the plane."
   ]
  },
  {
   "cell_type": "markdown",
   "metadata": {},
   "source": [
    "### Task 6: Find an example of a plane parallel and perpendicular to the plane $2x + 3y + 4z = 5$.\n",
    "\n",
    "To find a parallel plane, we can use the same normal vector $[2, 3, 4]$ but with a different constant term. To find a perpendicular plane, we need to find a vector that is perpendicular to the normal vector $[2, 3, 4]$ and use it to define the new plane."
   ]
  },
  {
   "cell_type": "markdown",
   "metadata": {},
   "source": [
    "### Task 7: Find the distance from point A(1, 2, 3) to the plane $2x + 3y + 4z = 5$.\n",
    "\n",
    "The distance from a point to a plane can be calculated using the formula:\n",
    "\n",
    "$\\text{Distance} = \\frac{|Ax_1 + By_1 + Cz_1 + D|}{\\sqrt{A^2 + B^2 + C^2}}$\n",
    "\n",
    "where $(x_1, y_1, z_1)$ is the point and $Ax + By + Cz + D = 0$ is the equation of the plane."
   ]
  },
  {
   "cell_type": "markdown",
   "metadata": {},
   "source": [
    "### Task 8: Find the equation of the plane that intersects the coordinate axes at points A(2, 0, 0), B(0, 3, 0), and C(0, 0, 4).\n",
    "\n",
    "The equation of a plane that intersects the coordinate axes at $(x_1, 0, 0)$, $(0, y_1, 0)$, and $(0, 0, z_1)$ is given by:\n",
    "\n",
    "$\\frac{x}{x_1} + \\frac{y}{y_1} + \\frac{z}{z_1} = 1$"
   ]
  },
  {
   "cell_type": "markdown",
   "metadata": {},
   "source": [
    "### Task 9: Calculate the angle between the plane $x + y + z = 1$ and the plane $x = 0$ (i.e., the $yz$ plane).\n",
    "\n",
    "The angle between two planes can be calculated using the formula:\n",
    "\n",
    "$\\cos \\theta = \\frac{|\\vec{n_1} \\cdot \\vec{n_2}|}{\\|\vec{n_1}\\| \\|\vec{n_2}\\|}$\n",
    "\n",
    "where $\\vec{n_1}$ and $\\vec{n_2}$ are the normal vectors of the two planes."
   ]
  },
  {
   "cell_type": "markdown",
   "metadata": {},
   "source": [
    "### Task 10: Find the vector perpendicular to the plane $x + y + z = 1$.\n",
    "\n",
    "The vector perpendicular to the plane is simply the normal vector of the plane. In this case, the normal vector is $[1, 1, 1]$."
   ]
  }
 ],
 "metadata": {
  "kernelspec": {
   "display_name": "Python 3",
   "language": "python",
   "name": "python3"
  },
  "language_info": {
   "codemirror_mode": {
    "name": "ipython",
    "version": 3
   },
   "file_extension": ".py",
   "mimetype": "text/x-python",
   "name": "python",
   "nbconvert_exporter": "python",
   "version": "3.10.8"
  }
 },
 "nbformat": 4,
 "nbformat_minor": 5
}
