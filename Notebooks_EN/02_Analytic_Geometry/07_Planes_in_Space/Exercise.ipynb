{
  "cells": [
    {
      "cell_type": "markdown",
      "metadata": {
        "id": "e4bYJqDr_CHH"
      },
      "source": [
        "# Tasks related to equations of planes in space\n",
        "\n",
        "This notebook contains various tasks related to the equations of planes in space, and solutions are provided using visualizations.\n",
        "\n",
        "Let's explore each task step by step."
      ],
      "id": "e4bYJqDr_CHH"
    },
    {
      "cell_type": "markdown",
      "metadata": {
        "id": "zA7DEFVN_CHI"
      },
      "source": [
        "Find the equation of the plane passing through points A(1, 2, 3), B(3, 4, 5), and C(2, 1, 4).\n",
        "\n",
        "$$\n",
        "\\vec{AB} = B - A = (3 - 1, 4 - 2, 5 - 3) = (2, 2, 2)\n",
        "$$\n",
        "$$\n",
        "\\vec{AC} = C - A = (2 - 1, 1 - 2, 4 - 3) = (1, -1, 1)\n",
        "$$\n",
        "$$\n",
        "\\vec{n} = \\vec{AB} \\times \\vec{AC}\n",
        "$$\n",
        "$$\n",
        "\\vec{n} = \\begin{vmatrix} \\hat{i} & \\hat{j} & \\hat{k} \\\\ 2 & 2 & 2 \\\\ 1 & -1 & 1 \\end{vmatrix}\n",
        "$$\n",
        "$$\n",
        "\\vec{n} = \\hat{i} (2 \\cdot 1 - 2 \\cdot -1) - \\hat{j} (2 \\cdot 1 - 2 \\cdot 1) + \\hat{k} (2 \\cdot -1 - 2 \\cdot 1)\n",
        "$$\n",
        "$$\n",
        "\\vec{n} = \\hat{i} (2 + 2) - \\hat{j} (2 - 2) + \\hat{k} (-2 - 2)\n",
        "$$\n",
        "$$\n",
        "\\vec{n} = \\hat{i} (4) - \\hat{j} (0) + \\hat{k} (-4)\n",
        "$$\n",
        "$$\n",
        "\\vec{n} = (4, 0, -4)\n",
        "$$\n",
        "$$\n",
        "4x + 0y - 4z = A\n",
        "$$\n",
        "$$\n",
        "4(1) + 0(2) - 4(3) = A\n",
        "$$\n",
        "$$\n",
        "4 - 12 = A\n",
        "$$\n",
        "$$\n",
        "A = -8\n",
        "$$\n",
        "$$\n",
        "4x - 4z = -8\n",
        "$$\n",
        "$$\n",
        "x - z = -2\n",
        "$$\n",
        "\n"
      ],
      "id": "zA7DEFVN_CHI"
    },
    {
      "cell_type": "markdown",
      "metadata": {
        "id": "Iappu9XS_CHI"
      },
      "source": [
        "Find the equation of the plane passing through point A(1, 2, 3) and parallel to the plane 2x + 3y + 4z = 5.\n",
        "\n",
        "$$\n",
        "\\vec{n} = (2, 3, 4)\n",
        "$$\n",
        "$$\n",
        "2x + 3y + 4z = A\n",
        "$$\n",
        "$$\n",
        "2(1) + 3(2) + 4(3) = A\n",
        "$$\n",
        "$$\n",
        "2 + 6 + 12 = A\n",
        "$$\n",
        "$$\n",
        "A = 20\n",
        "$$\n",
        "$$\n",
        "2x + 3y + 4z = 20\n",
        "$$\n"
      ],
      "id": "Iappu9XS_CHI"
    },
    {
      "cell_type": "markdown",
      "metadata": {
        "id": "THQWpbvb_CHJ"
      },
      "source": [
        "Find the line of intersection of the planes 2x + 3y + 4z = 5 and 3x + 4y + 2z = 6.\n",
        "\\\n",
        "$$\n",
        "\\vec{d} = \\vec{n_1} \\times \\vec{n_2}\n",
        "$$\n",
        "$$\n",
        "\\vec{d} = \\begin{vmatrix} \\hat{i} & \\hat{j} & \\hat{k} \\\\ 2 & 3 & 4 \\\\ 3 & 4 & 2 \\end{vmatrix}\n",
        "$$\n",
        "$$\n",
        "\\vec{d} = \\hat{i} \\begin{vmatrix} 3 & 4 \\\\ 4 & 2 \\end{vmatrix} - \\hat{j} \\begin{vmatrix} 2 & 4 \\\\ 3 & 2 \\end{vmatrix} + \\hat{k} \\begin{vmatrix} 2 & 3 \\\\ 3 & 4 \\end{vmatrix}\n",
        "$$\n",
        "$$\n",
        "\\vec{d} = \\hat{i} (6 - 16) - \\hat{j} (4 - 12) + \\hat{k} (8 - 9)\n",
        "$$\n",
        "$$\n",
        "\\vec{d} = \\hat{i} (-10) - \\hat{j} (-8) + \\hat{k} (-1)\n",
        "$$\n",
        "$$\n",
        "\\vec{d} = (-10, 8, -1)\n",
        "$$\n",
        "$$\n",
        "2x + 3y = 5\n",
        "$$\n",
        "$$\n",
        "3x + 4y = 6\n",
        "$$\n",
        "$$\n",
        "6x + 9y = 15\n",
        "$$\n",
        "$$\n",
        "6x + 8y = 12\n",
        "$$\n",
        "$$\n",
        "(6x + 9y) - (6x + 8y) = 15 - 12\n",
        "$$\n",
        "$$\n",
        "y = 3\n",
        "$$\n",
        "$$\n",
        "2x + 3(3) = 5\n",
        "$$\n",
        "$$\n",
        "2x + 9 = 5\n",
        "$$\n",
        "$$\n",
        "2x = -4\n",
        "$$\n",
        "$$\n",
        "x = -2\n",
        "$$\n",
        "$$\n",
        "\\left( x, y, z \\right) = (-2, 3, 0) + t(-10, 8, -1)\n",
        "$$\n"
      ],
      "id": "THQWpbvb_CHJ"
    },
    {
      "cell_type": "markdown",
      "metadata": {
        "id": "GYzRVpk1_CHJ"
      },
      "source": [
        "Write the equation of the plane passing through point A(1, 2, 3) and parallel to vectors \\( \\vec{v_1} = [1, 0, 1] \\) and \\( \\vec{v_2} = [0, 1, -1] \\).\n",
        "\\\n",
        "$$\n",
        "\\vec{n} = \\vec{v_1} \\times \\vec{v_2}\n",
        "$$\n",
        "$$\n",
        "\\vec{n} = \\begin{vmatrix} \\hat{i} & \\hat{j} & \\hat{k} \\\\ 1 & 0 & 1 \\\\ 0 & 1 & -1 \\end{vmatrix}\n",
        "$$\n",
        "$$\n",
        "\\vec{n} = \\hat{i} \\begin{vmatrix} 0 & 1 \\\\ 1 & -1 \\end{vmatrix} - \\hat{j} \\begin{vmatrix} 1 & 1 \\\\ 0 & -1 \\end{vmatrix} + \\hat{k} \\begin{vmatrix} 1 & 0 \\\\ 0 & 1 \\end{vmatrix}\n",
        "$$\n",
        "$$\n",
        "\\vec{n} = \\hat{i} (-1) - \\hat{j} (-1) + \\hat{k} (1)\n",
        "$$\n",
        "$$\n",
        "\\vec{n} = (-1, 1, 1)\n",
        "$$\n",
        "$$\n",
        "-x + 1 + y - 2 + z - 3 = 0\n",
        "$$\n",
        "$$\n",
        "-x + y + z - 4 = 0\n",
        "$$\n",
        "$$\n",
        "x - y - z = -4\n",
        "$$\n"
      ],
      "id": "GYzRVpk1_CHJ"
    },
    {
      "cell_type": "markdown",
      "metadata": {
        "id": "XRymozx3_CHJ"
      },
      "source": [
        "Find an example of a plane parallel and perpendicular to the plane 2x + 3y + 4z = 5\n",
        "\\\n",
        "$$\n",
        "2(x - 1) + 3(y - 1) + 4(z - 1) = 0\n",
        "$$\n",
        "$$\n",
        "2x - 2 + 3y - 3 + 4z - 4 = 0\n",
        "$$\n",
        "$$\n",
        "2x + 3y + 4z - 9 = 0\n",
        "$$\n",
        "$$\n",
        "2x + 3y + 4z = 9\n",
        "$$\n",
        "$$\n",
        "1(x - 1) - 1(y - 1) + 0(z - 1) = 0\n",
        "$$\n",
        "$$\n",
        "x - 1 - y + 1 = 0\n",
        "$$\n",
        "$$\n",
        "x - y = 0\n",
        "$$\n"
      ],
      "id": "XRymozx3_CHJ"
    },
    {
      "cell_type": "markdown",
      "metadata": {
        "id": "yrB6hZsH_CHJ"
      },
      "source": [
        "Find the distance from point A(1, 2, 3) to the plane 2x + 3y + 4z = 5.\n",
        "\n",
        "$$\n",
        "d = \\frac{|2(1) + 3(2) + 4(3) - 5|}{\\sqrt{2^2 + 3^2 + 4^2}}\n",
        "$$\n",
        "$$\n",
        "d = \\frac{|2 + 6 + 12 - 5|}{\\sqrt{4 + 9 + 16}}\n",
        "$$\n",
        "$$\n",
        "d = \\frac{|15|}{\\sqrt{29}}\n",
        "$$\n"
      ],
      "id": "yrB6hZsH_CHJ"
    },
    {
      "cell_type": "markdown",
      "metadata": {
        "id": "3kAhvPkj_CHK"
      },
      "source": [
        "Find the equation of the plane that intersects the coordinate axes at points A(2, 0, 0), B(0, 3, 0), and C(0, 0, 4).\n",
        "\\\n",
        "$$\n",
        "\\frac{x}{2} + \\frac{y}{3} + \\frac{z}{4} = 1\n",
        "$$\n",
        "\n",
        "$$\n",
        "\\frac{6x + 4y + 3z}{12} = 1\n",
        "$$\n",
        "$$\n",
        "6x + 4y + 3z = 12\n",
        "$$\n",
        "\n",
        "\n",
        "\n",
        "\n"
      ],
      "id": "3kAhvPkj_CHK"
    },
    {
      "cell_type": "markdown",
      "metadata": {
        "id": "oEog5DS-_CHK"
      },
      "source": [
        "Calculate the angle between the plane x + y + z = 1 and the plane x = 0 (the yz-plane).\n"
      ],
      "id": "oEog5DS-_CHK"
    },
    {
      "cell_type": "markdown",
      "metadata": {
        "id": "wdxd-LD9_CHK"
      },
      "source": [
        "Find the vector perpendicular to the plane x + y + z = 1.\n",
        "\n",
        "$$\n",
        "x + y + z = 1\n",
        "$$\n",
        "$$\n",
        "\\vec{n} = [1, 1, 1]\n",
        "$$\n"
      ],
      "id": "wdxd-LD9_CHK"
    }
  ],
  "metadata": {
    "kernelspec": {
      "display_name": "Python 3",
      "language": "python",
      "name": "python3"
    },
    "language_info": {
      "codemirror_mode": {
        "name": "ipython",
        "version": 3
      },
      "file_extension": ".py",
      "mimetype": "text/x-python",
      "name": "python",
      "nbconvert_exporter": "python",
      "version": "3.10.8"
    },
    "colab": {
      "provenance": []
    }
  },
  "nbformat": 4,
  "nbformat_minor": 5
}