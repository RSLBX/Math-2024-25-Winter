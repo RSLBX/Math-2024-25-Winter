{
 "cells": [
  {
   "cell_type": "markdown",
   "metadata": {},
   "source": [
    "# Tasks related to equations of planes in space\n",
    "\n",
    "This notebook contains various tasks related to the equations of planes in space, and solutions are provided using visualizations.\n",
    "\n",
    "Let's explore each task step by step."
   ]
  },
  {
   "cell_type": "markdown",
   "metadata": {},
   "source": [
    "### Task 1: Find the equation of the plane passing through points A(1, 2, 3), B(3, 4, 5), and C(2, 1, 4).\n",
    "\n",
    "We need to find the normal vector to the plane using the cross product of the vectors AB and AC.\n",
    "Then we can use the point A and the normal vector to find the equation of the plane."
   ]
  },
  {
   "cell_type": "markdown",
   "metadata": {},
   "source": [
    "### Task 2: Find the equation of the plane passing through point A(1, 2, 3) and parallel to the plane 2x + 3y + 4z = 5.\n",
    "\n",
    "The equation of the desired plane will have the same normal vector as the given plane."
   ]
  },
  {
   "cell_type": "markdown",
   "metadata": {},
   "source": [
    "### Task 3: Find the equation of the plane passing through point A(1, 2, 3) and perpendicular to the normal vector \\( \\vec{n} = [2, 3, 4] \\).\n",
    "\n",
    "The equation of the plane will have the normal vector \\( \\vec{n} = [2, 3, 4] \\). We can use the point A and this normal vector to find the equation of the plane."
   ]
  },
  {
   "cell_type": "markdown",
   "metadata": {},
   "source": [
    "### Task 4: Find the line of intersection of the planes 2x + 3y + 4z = 5 and 3x + 4y + 2z = 6.\n",
    "\n",
    "The intersection of these two planes will give us a line, which can be found by solving the system of equations for both planes."
   ]
  },
  {
   "cell_type": "markdown",
   "metadata": {},
   "source": [
    "### Task 5: Write the equation of the plane passing through point A(1, 2, 3) and parallel to vectors \\( \\vec{v_1} = [1, 0, 1] \\) and \\( \\vec{v_2} = [0, 1, -1] \\).\n",
    "\n",
    "The normal vector to the plane will be the cross product of the two given vectors, \\( \\vec{v_1} \\) and \\( \\vec{v_2} \\). Using point A and this normal vector, we can find the equation of the plane."
   ]
  },
  {
   "cell_type": "markdown",
   "metadata": {},
   "source": [
    "### Task 6: Find an example of a plane parallel and perpendicular to the plane 2x + 3y + 4z = 5.\n",
    "\n",
    "The parallel plane will have the same normal vector, while the perpendicular plane will have a normal vector that is orthogonal to the normal vector of the given plane."
   ]
  },
  {
   "cell_type": "markdown",
   "metadata": {},
   "source": [
    "### Task 7: Find the distance from point A(1, 2, 3) to the plane 2x + 3y + 4z = 5.\n",
    "\n",
    "The distance from a point to a plane can be calculated using the formula: \\( d = \\frac{|Ax_1 + By_1 + Cz_1 + D|}{\\sqrt{A^2 + B^2 + C^2}} \\)."
   ]
  },
  {
   "cell_type": "markdown",
   "metadata": {},
   "source": [
    "### Task 8: Find the equation of the plane that intersects the coordinate axes at points A(2, 0, 0), B(0, 3, 0), and C(0, 0, 4).\n",
    "\n",
    "The equation of the plane can be found using the intercept form of the equation of a plane."
   ]
  },
  {
   "cell_type": "markdown",
   "metadata": {},
   "source": [
    "### Task 9: Calculate the angle between the plane x + y + z = 1 and the plane x = 0 (the yz-plane).\n",
    "\n",
    "The angle between two planes can be found using the formula: \\( \\cos \\theta = \\frac{| \\vec{n_1} \\cdot \\vec{n_2} |}{|\\vec{n_1}| |\\vec{n_2}|} \\), where \\( \\vec{n_1} \\) and \\( \\vec{n_2} \\) are the normal vectors of the planes."
   ]
  },
  {
   "cell_type": "markdown",
   "metadata": {},
   "source": [
    "### Task 10: Find the vector perpendicular to the plane x + y + z = 1.\n",
    "\n",
    "The vector perpendicular to the plane is the normal vector to the plane, which can be directly read off from the equation."
   ]
  }
 ],
 "metadata": {
  "kernelspec": {
   "display_name": "Python 3",
   "language": "python",
   "name": "python3"
  },
  "language_info": {
   "codemirror_mode": {
    "name": "ipython",
    "version": 3
   },
   "file_extension": ".py",
   "mimetype": "text/x-python",
   "name": "python",
   "nbconvert_exporter": "python",
   "version": "3.10.8"
  }
 },
 "nbformat": 4,
 "nbformat_minor": 5
}
