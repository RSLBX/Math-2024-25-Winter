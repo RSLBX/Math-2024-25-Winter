{
 "cells": [
  {
   "cell_type": "markdown",
   "metadata": {},
   "source": [
    "# Second-Order Surfaces Visualization"
   ]
  },
  {
   "cell_type": "markdown",
   "metadata": {},
   "source": [
    "This notebook contains the tasks related to second-order surfaces. Each task includes Python code for visualization or calculation.\n",
    "\n",
    "## Task 1\n",
    "Write the equation of a sphere with center at point $P=(1,2,3)$ and radius $r=3$."
   ]
  },
  {
   "cell_type": "code",
   "execution_count": null,
   "metadata": {},
   "outputs": [],
   "source": [
    "from sympy import symbols, Eq\n",
    "\n",
    "# Define variables\n",
    "x, y, z = symbols('x y z')\n",
    "\n",
    "# Center and radius of the sphere\n",
    "center = (1, 2, 3)\n",
    "radius = 3\n",
    "\n",
    "# Equation of the sphere\n",
    "sphere_eq = Eq((x - center[0])**2 + (y - center[1])**2 + (z - center[2])**2, radius**2)\n",
    "sphere_eq"
   ]
  },
  {
   "cell_type": "markdown",
   "metadata": {},
   "source": [
    "## Task 2\n",
    "Do the spheres with equations $x^2 + y^2 + z^2 = 1$ and $x^2 + y^2 + z^2 = 2$ have any common points?"
   ]
  },
  {
   "cell_type": "code",
   "execution_count": null,
   "metadata": {},
   "outputs": [],
   "source": [
    "from sympy import solve\n",
    "\n",
    "# Define the two spheres\n",
    "sphere1 = Eq(x**2 + y**2 + z**2, 1)\n",
    "sphere2 = Eq(x**2 + y**2 + z**2, 2)\n",
    "\n",
    "# Solve the system of equations\n",
    "intersection = solve([sphere1, sphere2], (x, y, z))\n",
    "intersection"
   ]
  },
  {
   "cell_type": "markdown",
   "metadata": {},
   "source": [
    "## Task 3\n",
    "What curve in space is formed by the intersection of the sphere $x^2 + y^2 + z^2 = 1$ with the sphere $(x-1)^2 + y^2 + z^2 = 1$? Find the equation of this curve."
   ]
  },
  {
   "cell_type": "code",
   "execution_count": null,
   "metadata": {},
   "outputs": [],
   "source": [
    "# Define the second sphere\n",
    "sphere3 = Eq((x-1)**2 + y**2 + z**2, 1)\n",
    "\n",
    "# Solve the system of equations for the curve\n",
    "curve_eq = solve([sphere1, sphere3], (z))\n",
    "curve_eq"
   ]
  },
  {
   "cell_type": "markdown",
   "metadata": {},
   "source": [
    "## Task 4\n",
    "Write the equation of the tangent plane to the paraboloid $z=(x-1)^2+y^2+1$ at point $P=(1,0,1)$."
   ]
  },
  {
   "cell_type": "code",
   "execution_count": null,
   "metadata": {},
   "outputs": [],
   "source": [
    "from sympy import diff\n",
    "\n",
    "# Define the paraboloid\n",
    "z_paraboloid = (x - 1)**2 + y**2 + 1\n",
    "\n",
    "# Point of tangency\n",
    "P = (1, 0, 1)\n",
    "\n",
    "# Partial derivatives\n",
    "dz_dx = diff(z_paraboloid, x)\n",
    "dz_dy = diff(z_paraboloid, y)\n",
    "\n",
    "# Evaluate derivatives at P\n",
    "dz_dx_P = dz_dx.subs({x: P[0], y: P[1]})\n",
    "dz_dy_P = dz_dy.subs({x: P[0], y: P[1]})\n",
    "\n",
    "# Equation of the tangent plane: z - z0 = dz/dx * (x - x0) + dz/dy * (y - y0)\n",
    "tangent_plane = Eq(z - P[2], dz_dx_P * (x - P[0]) + dz_dy_P * (y - P[1]))\n",
    "tangent_plane"
   ]
  }
 ],
 "metadata": {
  "kernelspec": {
   "display_name": "Python 3",
   "language": "python",
   "name": "python3"
  },
  "language_info": {
   "codemirror_mode": {
    "name": "ipython",
    "version": 3
   },
   "file_extension": ".py",
   "mimetype": "text/x-python",
   "name": "python",
   "nbconvert_exporter": "python",
   "pygments_lexer": "ipython3",
   "version": "3.8.10"
  }
 },
 "nbformat": 4,
 "nbformat_minor": 4
}
