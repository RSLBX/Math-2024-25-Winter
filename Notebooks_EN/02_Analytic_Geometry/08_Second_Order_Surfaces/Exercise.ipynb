{
  "cells": [
    {
      "cell_type": "markdown",
      "metadata": {
        "id": "fupABQ9oM0cU"
      },
      "source": [
        "# Second-Order Surfaces Visualization"
      ]
    },
    {
      "cell_type": "markdown",
      "metadata": {
        "id": "G2OvVp6gM0cV"
      },
      "source": [
        "\n",
        "Write the equation of a sphere with center at point $P=(1,2,3)$ and radius $r=3$.\n",
        "\\\n",
        "Formula\n",
        "$$\n",
        "r^2 = (x - a)^2 + (y - b)^2 + (z - c)^2\n",
        "$$\n",
        "\\\n",
        "$$\n",
        "\\begin{align*}\n",
        "3^2 = (x -1)^2 + (y - 2)^2 + (z - 3)^2 \\\\\n",
        "9 = (x -1)^2 + (y - 2)^2 + (z - 3)^2\n",
        "\\end{align*}\n",
        "$$"
      ]
    },
    {
      "cell_type": "markdown",
      "metadata": {
        "id": "IgTElmeAM0cW"
      },
      "source": [
        "## Task 2\n",
        "Do the spheres with equations $x^2 + y^2 + z^2 = 1$ and $x^2 + y^2 + z^2 = 2$ have any common points?\n",
        "\\\n",
        "No because these 2 equations have the same points (0,0,0) but equal to different radi. This is contradictory\n",
        "\\\n",
        "$$\n",
        "\\begin{align*}\n",
        "x = 0\\\\\n",
        "y = 0 \\\\\n",
        "z = 0 \\\\\n",
        "0 + 0 + 0 \\not= 1 \\\\\n",
        "0 + 0 + 0 \\not= 2\n",
        "\\end{align*}\n",
        "$$"
      ]
    },
    {
      "cell_type": "markdown",
      "metadata": {
        "id": "xF_KxsTvM0cW"
      },
      "source": [
        "## Task 3\n",
        "What curve in space is formed by the intersection of the sphere $x^2 + y^2 + z^2 = 1$ with the sphere $(x-1)^2 + y^2 + z^2 = 1$? Find the equation of this curve.\n",
        "\\\n",
        "$$\n",
        "\\begin{align*}\n",
        "(x-1)^2 + y^2 + z^2 = 1 \\\\\n",
        "x^2 - 2x + 1 + y^2 + z^2 = 1\\\\\n",
        "x^2 - 2x + y^2 + z^2 = 0\n",
        "\\end{align*}\n",
        "$$\n",
        "The value of $x^2 + y^2 + z^2 $ is already given, which is the first Sphere (equals to 1)\n",
        "\\\n",
        "$$\n",
        "\\begin{align*}\n",
        "1 - 2x = 0 \\\\\n",
        "1 = 2x \\\\\n",
        "\\frac{1}{2} = x \\\\ \\\\\n",
        "\\frac{1}{4} + y^2 + z^2 =1 \\\\\n",
        "y^2 + z^2 = \\frac{3}{4} \\\\\n",
        "y^2 + z^2 = \\frac{\\sqrt{3}}{2} \\\\\n",
        "(\\frac{1}{2}, 0, 0)\n",
        "\\end{align*}\n",
        "$$"
      ]
    },
    {
      "cell_type": "markdown",
      "metadata": {
        "id": "eqtuNF-JM0cW"
      },
      "source": [
        "## Task 4\n",
        "Write the equation of the tangent plane to the paraboloid $z=(x-1)^2+y^2+1$ at point $P=(1,0,1)$."
      ]
    }
  ],
  "metadata": {
    "kernelspec": {
      "display_name": "Python 3",
      "language": "python",
      "name": "python3"
    },
    "language_info": {
      "codemirror_mode": {
        "name": "ipython",
        "version": 3
      },
      "file_extension": ".py",
      "mimetype": "text/x-python",
      "name": "python",
      "nbconvert_exporter": "python",
      "pygments_lexer": "ipython3",
      "version": "3.8.10"
    },
    "colab": {
      "provenance": []
    }
  },
  "nbformat": 4,
  "nbformat_minor": 0
}