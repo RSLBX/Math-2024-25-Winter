{
  "cells": [
    {
      "cell_type": "markdown",
      "metadata": {
        "id": "jeSBnEKKkybd"
      },
      "source": [
        "## 25. Differential Equations\n",
        "\n",
        "### 1. Solve the following first-order ordinary differential equations:\n",
        "\n",
        "- $y'(x)= y$\n",
        "\\\n",
        "We separate the variables\n",
        "$$\n",
        "\\begin{align*}\n",
        "\\frac{dy}{dx} = y \\\\\n",
        "dy = dx(y) \\\\\n",
        "\\frac{dy}{y} = x\n",
        "\\end{align*}\n",
        "$$\n",
        "We then integrate both sides (C is a random constant, so even we subtract them, we'll still get a C)\n",
        "\\\n",
        "$$\n",
        "\\begin{align*}\n",
        "\\int \\frac{1}{y} dy = \\int 1x(dx) \\\\\n",
        "ln|y| + C = x + C \\\\\n",
        "ln|y| = x + C\n",
        "\\end{align*}\n",
        "$$\n",
        "Now we exponentiate both sides to get rid of $ln$ (Logarithm) to get our answer\n",
        "\\\n",
        "$$\n",
        "\\begin{align*}\n",
        "y = e^{x + C} \\\\\n",
        "y = e^xe^C\n",
        "\\end{align*}\n",
        "$$\n",
        "- $y'(x) = \\frac{1}{2y(x)}$\n",
        "\\\n",
        "We repeat the same rule above\n",
        "\\\n",
        "$A)$ We separate the variables\n",
        "\\\n",
        "$B)$ We then integrate both sides (C is a random constant, so even we subtract them, we'll still get a C)\n",
        "\\\n",
        "$C)$ Our final Answer\n",
        "\n",
        "$$\n",
        "\\begin{align*}\n",
        "A) \\frac{dy}{dx} = \\frac{1}{2y} \\\\\n",
        "A)   2y(dy) = dx \\\\\n",
        "B) \\int 2y = \\int 1dx \\\\\n",
        "B) y^2 + C = x + C \\\\\n",
        "C) y^2 = x + C \\\\\n",
        "C) y = \\sqrt{x + C}\n",
        "\\end{align*}\n",
        "$$\n",
        "\n",
        "### 3. Solve the first-order ordinary differential equations using the method of separation of variables for $x$ and $y=y(x)$:\n",
        "\n",
        "- $\\frac{dy}{dx} = \\frac{x}{y}$\n",
        "- $\\frac{dy}{dx} = \\frac{y}{x}$\n",
        "- $\\frac{dy}{dx} = xy$\n",
        "\n",
        "### 4. Solve the second-order ordinary differential equations:\n",
        "\n",
        "- $y''(x) + y'(x) = 0$, with boundary conditions $y(0) = 2$ and $y'(0) = -1$\n",
        "- $y''(x) - y(x)= 0$, with boundary conditions $y(0) = 2$ and $y'(0) = 0$\n",
        "- $\\frac{d^2y(x)}{dx^2} = -\\omega^2 y(x)$.\n",
        "\n",
        "### 5. Check if the function $\\psi(t, x) = A \\cos(\\omega t + kx)$ is a solution of the second-order partial differential equation (the so-called \"wave equation\"), where $v = \\frac{\\omega}{k} = \\frac{2\\pi / T}{2\\pi / \\lambda}$:\n",
        "\n",
        "$\\frac{\\partial^2 \\psi(t, x)}{\\partial t^2} - v^2 \\frac{\\partial^2 \\psi(t, x)}{\\partial x^2} = 0$.\n"
      ]
    }
  ],
  "metadata": {
    "kernelspec": {
      "display_name": "Python 3",
      "language": "python",
      "name": "python3"
    },
    "language_info": {
      "codemirror_mode": {
        "name": "ipython",
        "version": 3
      },
      "file_extension": ".py",
      "mimetype": "text/x-python",
      "name": "python",
      "nbconvert_exporter": "python",
      "pygments_lexer": "ipython3",
      "version": "3.9"
    },
    "colab": {
      "provenance": []
    }
  },
  "nbformat": 4,
  "nbformat_minor": 0
}