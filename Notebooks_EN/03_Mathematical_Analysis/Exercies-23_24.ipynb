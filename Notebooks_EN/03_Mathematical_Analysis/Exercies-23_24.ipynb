{
 "cells": [
  {
   "cell_type": "markdown",
   "metadata": {},
   "source": [
    "## 23. Taylor Series\n",
    "\n",
    "1. Find the Taylor series and visualize obtained functions in Geogebra:\n",
    "   - $f(x) = \\cos(x)$ around $x = 0$ up to the 4th degree.\n",
    "   - $h(x) = \\frac{1}{1-x}$ around $x = 0$ up to the 4th degree.\n",
    "   - $g(x) = \\sin(x)$ around $x = \\pi$ up to the 4th degree.\n",
    "\n",
    "2. Find a tangent line $y = f'(x_0) (x-x_0) + f(x_0)$ to the function $f(x) = e^{\\sin(x)}$ at $x_0 = \\pi$.\n",
    "\n",
    "   Hints for Geogebra visualization: \n",
    "   - Define $f(x)$.\n",
    "   - Include slider $s$.\n",
    "   - Define $y = f'(s) (x-s) + f(s)$.\n",
    "   - Include point $P(s, f(s))$.\n"
   ]
  },
  {
   "cell_type": "markdown",
   "metadata": {},
   "source": [
    "## 24. Integrals\n",
    "\n",
    "1. Compute:\n",
    "   - $\\int 1 \, dx$\n",
    "   - $\\int (x^2 + 2) \, dx$\n",
    "   - $\\int 2\\sin(x) \, dx$\n",
    "   - $\\int \\\frac{3}{x} \, dx$\n",
    "   - $\\int \\\frac{1}{x^2} \, dx$\n",
    "   - $\\int \\\left( \\\frac{1}{3}x^4 - 5 \\\right) \\, dx$\n",
    "   - $\\int (\\sin^2(x) + \\cos^2(x)) \, dx$\n",
    "   - $\\int (5 \\sin(x) + 3e^x) \, dx$\n",
    "   - $\\int \\sqrt[3]{x} \, dx$\n",
    "   - $\\int \\sqrt{10x} \, dx$\n",
    "   - $\\int \\cos\\left(\\frac{5}{2}x + 3\\right) \, dx$\n",
    "   - $\\int \\\frac{\\cos(\\ln(x))}{x} \, dx$\n",
    "   - $\\int x\\ln(x) \, dx$\n",
    "   - $\\int xe^x \, dx$\n",
    "\n",
    "2. Calculate integrals over the interval $[0, \\pi]$ and visualize them in Geogebra:\n",
    "   - $f(x)=2x+1$\n",
    "   - $g(x)=x^2$\n",
    "\n",
    "3. Calculate the area of the region bounded by the lines:\n",
    "   - $x = 1$, $x = 2$, $y = 0$, and $y = x^2 + 1$. Show it in Geogebra.\n",
    "\n",
    "4. Calculate the area under the sine curve over the interval $[0, \\pi]$, using:\n",
    "\n",
    "   $$P = \\int_a^b f(x) \, dx = \\int_0^\\pi \\sin(x) \, dx$$\n",
    "\n",
    "5. Calculate the length of the sine curve over the same interval using:\n",
    "\n",
    "   $$L = \\int_a^b \\sqrt{1 + (f'(x))^2} \, dx = \\int_0^\\pi \\sqrt{1 + \\cos^2(x)} \, dx$$\n",
    "\n",
    "6. Find the distance of the moving particle between time $t=0$ and $t=2$ for the following position function: \n",
    "\n",
    "   $x(t) = 3t^2 - 6t + 1$.\n"
   ]
  }
 ],
 "metadata": {
  "kernelspec": {
   "display_name": "Python 3",
   "language": "python",
   "name": "python3"
  },
  "language_info": {
   "name": "python",
   "version": "3.8"
  }
 },
 "nbformat": 4,
 "nbformat_minor": 2
}
