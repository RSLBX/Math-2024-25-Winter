{
 "cells": [
  {
   "cell_type": "markdown",
   "metadata": {},
   "source": [
    "## 23. Taylor Series\n",
    "1. Find the Taylor series and visualize obtained functions in Geogebra:\n",
    "   - $f(x) = \cos(x)$ around $x = 0$ up to the 4th degree.\n",
    "   - $h(x) = 1/(1-x)$ around $x = 0$ up to the 4th degree.\n",
    "   - $g(x) = \sin(x)$ around $x = \pi$ up to the 4th degree.\n",
    "\n",
    "2. Find a tangent line $y = f'(x_0) (x-x_0) + f(x_0)$ to the function $f(x) = e^{\sin(x)}$ at $x_0 = \pi$. Hints for Geogebra visualization: define $f(x)$, include slider $s$, define $y = f'(s) (x-s) + f(s)$, and include point $P(s, f(s))$.\n"
   ]
  },
  {
   "cell_type": "markdown",
   "metadata": {},
   "source": [
    "## 24. Integrals\n",
    "1. Compute:\n",
    "   - $\\int 1 \, dx$\n",
    "   - $\\int (x^2 + 2) \, dx$\n",
    "   - $\\int 2\\sin(x) \, dx$\n",
    "   - $\\int \\frac{3}{x} \, dx$\n",
    "   - $\\int \\frac{1}{x^2} \, dx$\n",
    "   - $\\int \\left( \\frac{1}{3}x^4 - 5 \\right) \\, dx$\n",
    "   - $\\int (\\sin^2 x + \\cos^2 x) \\, dx$\n",
    "   - $\\int (5 \\sin x + 3e^x) \\, dx$\n",
    "   - $\\int \\sqrt[3]{x} \\, dx$\n",
    "   - $\\int \\sqrt{10x} \\, dx$\n",
    "   - $\\int \\cos\\left(\\frac{5}{2}x + 3\\right) \\, dx$\n",
    "   - $\\int \\frac{\\cos(\\ln(x))}{x} \\, dx$\n",
    "   - $\\int x \\ln(x) \\, dx$\n",
    "   - $\\int x e^x \\, dx$\n",
    "\n",
    "2. Calculate integrals over the interval $[0, \\pi]$ and visualize them in Geogebra:\n",
    "   - $f(x) = 2x + 1$\n",
    "   - $g(x) = x^2$\n",
    "\n",
    "3. Calculate the area of the region bounded by the lines:\n",
    "$x = 1$, $x = 2$, $y = 0$, and $y = x^2 + 1$. Show it in Geogebra.\n",
    "\n",
    "4. Calculate the area under the sine curve over the interval $[0, \\pi]$, using:\n",
    "\\[\\int_0^\\pi \\sin(x) \\, dx\\]\n",
    "\n",
    "5. Calculate the length of the sine curve over the same interval using:\n",
    "\\[\\int_0^\\pi \\sqrt{1 + (\\cos(x))^2} \\, dx\\]\n",
    "\n",
    "6. Find the distance of the moving particle between time $t = 0$ and $t = 2$ for the following position function: $x(t) = 3t^2 - 6t + 1$.\n"
   ]
  },
  {
   "cell_type": "markdown",
   "metadata": {},
   "source": [
    "## 25. Differential Equations\n",
    "1. Solve the following first-order ordinary differential equations:\n",
    "   - $y'(x) = y$\n",
    "   - $y'(x) = \\frac{1}{2y(x)}$\n",
    "\n",
    "2. Solve the first-order ordinary differential equations using the method of separation of variables for $x$ and $y=y(x)$:\n",
    "   - $\\frac{dy}{dx} = \\frac{x}{y}$\n",
    "   - $\\frac{dy}{dx} = \\frac{y}{x}$\n",
    "   - $\\frac{dy}{dx} = xy$\n",
    "\n",
    "3. Solve the second-order ordinary differential equations:\n",
    "   - $y''(x) + y'(x) = 0$, with boundary conditions $y(0) = 2$ and $y'(0) = -1$.\n",
    "   - $y''(x) - y(x) = 0$, with boundary conditions $y(0) = 2$ and $y'(0) = 0$.\n",
    "   - $\\frac{d^2y(x)}{dx^2} = -\\omega^2 y(x)$.\n",
    "\n",
    "4. Check if the function $\\psi(t, x) = A \\cos(\\omega t + kx)$ is a solution of the second-order partial differential equation (the so-called \"wave equation\"), where $v = \\frac{\\omega}{k} = \\frac{2\\pi / T}{2\\pi / \\lambda}$:\n",
    "\\[\\frac{\\partial^2 \\psi(t, x)}{\\partial t^2} - v^2 \\frac{\\partial^2 \\psi(t, x)}{\\partial x^2} = 0.\\]\n"
   ]
  }
 ],
 "metadata": {
  "kernelspec": {
   "display_name": "Python 3",
   "language": "python",
   "name": "python3"
  },
  "language_info": {
   "codemirror_mode": {
    "name": "ipython",
    "version": 3
   },
   "file_extension": ".py",
   "mimetype": "text/x-python",
   "name": "python",
   "nbconvert_exporter": "python",
   "pygments_lexer": "ipython3",
   "version": "3.8.10"
  }
 },
 "nbformat": 4,
 "nbformat_minor": 4
}
